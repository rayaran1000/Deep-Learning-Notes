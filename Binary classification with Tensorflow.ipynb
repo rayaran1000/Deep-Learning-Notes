{
 "cells": [
  {
   "cell_type": "code",
   "execution_count": 1,
   "metadata": {},
   "outputs": [],
   "source": [
    "import tensorflow as tf\n",
    "from tensorflow import keras\n",
    "import numpy as np"
   ]
  },
  {
   "cell_type": "code",
   "execution_count": 2,
   "metadata": {},
   "outputs": [],
   "source": [
    "# IMDB Dataset\n",
    "from tensorflow.keras.datasets import imdb\n",
    "(train_data,train_labels),(test_data,test_labels) = imdb.load_data(num_words=10000) # Only the top 10000 frequent words will be loaded\n"
   ]
  },
  {
   "cell_type": "code",
   "execution_count": 3,
   "metadata": {},
   "outputs": [
    {
     "data": {
      "text/plain": [
       "[1,\n",
       " 14,\n",
       " 22,\n",
       " 16,\n",
       " 43,\n",
       " 530,\n",
       " 973,\n",
       " 1622,\n",
       " 1385,\n",
       " 65,\n",
       " 458,\n",
       " 4468,\n",
       " 66,\n",
       " 3941,\n",
       " 4,\n",
       " 173,\n",
       " 36,\n",
       " 256,\n",
       " 5,\n",
       " 25,\n",
       " 100,\n",
       " 43,\n",
       " 838,\n",
       " 112,\n",
       " 50,\n",
       " 670,\n",
       " 2,\n",
       " 9,\n",
       " 35,\n",
       " 480,\n",
       " 284,\n",
       " 5,\n",
       " 150,\n",
       " 4,\n",
       " 172,\n",
       " 112,\n",
       " 167,\n",
       " 2,\n",
       " 336,\n",
       " 385,\n",
       " 39,\n",
       " 4,\n",
       " 172,\n",
       " 4536,\n",
       " 1111,\n",
       " 17,\n",
       " 546,\n",
       " 38,\n",
       " 13,\n",
       " 447,\n",
       " 4,\n",
       " 192,\n",
       " 50,\n",
       " 16,\n",
       " 6,\n",
       " 147,\n",
       " 2025,\n",
       " 19,\n",
       " 14,\n",
       " 22,\n",
       " 4,\n",
       " 1920,\n",
       " 4613,\n",
       " 469,\n",
       " 4,\n",
       " 22,\n",
       " 71,\n",
       " 87,\n",
       " 12,\n",
       " 16,\n",
       " 43,\n",
       " 530,\n",
       " 38,\n",
       " 76,\n",
       " 15,\n",
       " 13,\n",
       " 1247,\n",
       " 4,\n",
       " 22,\n",
       " 17,\n",
       " 515,\n",
       " 17,\n",
       " 12,\n",
       " 16,\n",
       " 626,\n",
       " 18,\n",
       " 2,\n",
       " 5,\n",
       " 62,\n",
       " 386,\n",
       " 12,\n",
       " 8,\n",
       " 316,\n",
       " 8,\n",
       " 106,\n",
       " 5,\n",
       " 4,\n",
       " 2223,\n",
       " 5244,\n",
       " 16,\n",
       " 480,\n",
       " 66,\n",
       " 3785,\n",
       " 33,\n",
       " 4,\n",
       " 130,\n",
       " 12,\n",
       " 16,\n",
       " 38,\n",
       " 619,\n",
       " 5,\n",
       " 25,\n",
       " 124,\n",
       " 51,\n",
       " 36,\n",
       " 135,\n",
       " 48,\n",
       " 25,\n",
       " 1415,\n",
       " 33,\n",
       " 6,\n",
       " 22,\n",
       " 12,\n",
       " 215,\n",
       " 28,\n",
       " 77,\n",
       " 52,\n",
       " 5,\n",
       " 14,\n",
       " 407,\n",
       " 16,\n",
       " 82,\n",
       " 2,\n",
       " 8,\n",
       " 4,\n",
       " 107,\n",
       " 117,\n",
       " 5952,\n",
       " 15,\n",
       " 256,\n",
       " 4,\n",
       " 2,\n",
       " 7,\n",
       " 3766,\n",
       " 5,\n",
       " 723,\n",
       " 36,\n",
       " 71,\n",
       " 43,\n",
       " 530,\n",
       " 476,\n",
       " 26,\n",
       " 400,\n",
       " 317,\n",
       " 46,\n",
       " 7,\n",
       " 4,\n",
       " 2,\n",
       " 1029,\n",
       " 13,\n",
       " 104,\n",
       " 88,\n",
       " 4,\n",
       " 381,\n",
       " 15,\n",
       " 297,\n",
       " 98,\n",
       " 32,\n",
       " 2071,\n",
       " 56,\n",
       " 26,\n",
       " 141,\n",
       " 6,\n",
       " 194,\n",
       " 7486,\n",
       " 18,\n",
       " 4,\n",
       " 226,\n",
       " 22,\n",
       " 21,\n",
       " 134,\n",
       " 476,\n",
       " 26,\n",
       " 480,\n",
       " 5,\n",
       " 144,\n",
       " 30,\n",
       " 5535,\n",
       " 18,\n",
       " 51,\n",
       " 36,\n",
       " 28,\n",
       " 224,\n",
       " 92,\n",
       " 25,\n",
       " 104,\n",
       " 4,\n",
       " 226,\n",
       " 65,\n",
       " 16,\n",
       " 38,\n",
       " 1334,\n",
       " 88,\n",
       " 12,\n",
       " 16,\n",
       " 283,\n",
       " 5,\n",
       " 16,\n",
       " 4472,\n",
       " 113,\n",
       " 103,\n",
       " 32,\n",
       " 15,\n",
       " 16,\n",
       " 5345,\n",
       " 19,\n",
       " 178,\n",
       " 32]"
      ]
     },
     "execution_count": 3,
     "metadata": {},
     "output_type": "execute_result"
    }
   ],
   "source": [
    "# The words are tokenized, just checking the first record\n",
    "train_data[0]"
   ]
  },
  {
   "cell_type": "code",
   "execution_count": 4,
   "metadata": {},
   "outputs": [],
   "source": [
    "# Convert the sentences into vectors of 0s and 1s keeping the max length as 10000 , so that each sentence could be represented as equal length vectors\n",
    "# Method called -- Multi hot encoding\n",
    "# The below commented code is suitable for manually encoding one sentence\n",
    "# def vectorize_sequences(sequences,max_length=10000):\n",
    "#    vectors = np.zeros(max_length)\n",
    "#    for seq in sequences:\n",
    "#        if vectors[seq] == 0:\n",
    "#            vectors[seq] = 1\n",
    "#        else:\n",
    "#            continue\n",
    "#    return vectors\n",
    "\n",
    "# The below code is suitable for batch encoding sentences into vectors \n",
    "\n",
    "def vectorize_sequences(sequences,max_length=10000):\n",
    "    vectorized_sequences_matrix = np.zeros((len(sequences),max_length)) # Matrix of zeros with row as number of sentences and columns as 10000\n",
    "    for i,sentence in enumerate(sequences):\n",
    "        for tokenized_words in sentence:\n",
    "            vectorized_sequences_matrix[i,tokenized_words] = 1\n",
    "    return vectorized_sequences_matrix"
   ]
  },
  {
   "cell_type": "code",
   "execution_count": 5,
   "metadata": {},
   "outputs": [],
   "source": [
    "# Vectorizing and creating the train and test data for training\n",
    "X_train = vectorize_sequences(train_data)\n",
    "X_test = vectorize_sequences(test_data)"
   ]
  },
  {
   "cell_type": "code",
   "execution_count": 6,
   "metadata": {},
   "outputs": [],
   "source": [
    "# Converting the train and test data labels from list to array in float\n",
    "y_train = np.asarray(train_labels).astype(\"float32\")\n",
    "y_test = np.asarray(test_labels).astype(\"float32\")"
   ]
  },
  {
   "cell_type": "code",
   "execution_count": 7,
   "metadata": {},
   "outputs": [],
   "source": [
    "# Model built here\n",
    "from keras import layers # Can also use from tensorflow.keras import layers(but since we have imported keras earlier, so we can directly use it here)\n",
    "from keras import Sequential\n",
    "\n",
    "model = Sequential([\n",
    "    layers.Dense(units=16,activation=\"relu\"),\n",
    "    layers.Dense(units=16,activation=\"relu\"),\n",
    "    layers.Dense(units=1,activation=\"sigmoid\")\n",
    "])"
   ]
  },
  {
   "cell_type": "code",
   "execution_count": 8,
   "metadata": {},
   "outputs": [],
   "source": [
    "model.compile(loss=\"binary_crossentropy\",optimizer=\"rmsprop\",metrics=[\"accuracy\"])"
   ]
  },
  {
   "cell_type": "code",
   "execution_count": 9,
   "metadata": {},
   "outputs": [],
   "source": [
    "# Setting the validation data aside before mode training\n",
    "X_val = X_train[:10000]\n",
    "partial_X_train = X_train[10000:]\n",
    "y_val = y_train[:10000]\n",
    "partial_y_train = y_train[10000:]"
   ]
  },
  {
   "cell_type": "code",
   "execution_count": 10,
   "metadata": {},
   "outputs": [
    {
     "data": {
      "text/plain": [
       "(10000,)"
      ]
     },
     "execution_count": 10,
     "metadata": {},
     "output_type": "execute_result"
    }
   ],
   "source": [
    "y_val.shape"
   ]
  },
  {
   "cell_type": "code",
   "execution_count": 11,
   "metadata": {},
   "outputs": [
    {
     "name": "stdout",
     "output_type": "stream",
     "text": [
      "Epoch 1/20\n",
      "118/118 [==============================] - 2s 9ms/step - loss: 0.4468 - accuracy: 0.8276 - val_loss: 0.3065 - val_accuracy: 0.8845\n",
      "Epoch 2/20\n",
      "118/118 [==============================] - 1s 5ms/step - loss: 0.2346 - accuracy: 0.9154 - val_loss: 0.2919 - val_accuracy: 0.8804\n",
      "Epoch 3/20\n",
      "118/118 [==============================] - 0s 4ms/step - loss: 0.1703 - accuracy: 0.9381 - val_loss: 0.2836 - val_accuracy: 0.8878\n",
      "Epoch 4/20\n",
      "118/118 [==============================] - 0s 4ms/step - loss: 0.1324 - accuracy: 0.9533 - val_loss: 0.3092 - val_accuracy: 0.8840\n",
      "Epoch 5/20\n",
      "118/118 [==============================] - 0s 4ms/step - loss: 0.1060 - accuracy: 0.9641 - val_loss: 0.3635 - val_accuracy: 0.8705\n",
      "Epoch 6/20\n",
      "118/118 [==============================] - 0s 4ms/step - loss: 0.0829 - accuracy: 0.9723 - val_loss: 0.4253 - val_accuracy: 0.8696\n",
      "Epoch 7/20\n",
      "118/118 [==============================] - 1s 4ms/step - loss: 0.0648 - accuracy: 0.9778 - val_loss: 0.4373 - val_accuracy: 0.8677\n",
      "Epoch 8/20\n",
      "118/118 [==============================] - 0s 4ms/step - loss: 0.0497 - accuracy: 0.9844 - val_loss: 0.4713 - val_accuracy: 0.8723\n",
      "Epoch 9/20\n",
      "118/118 [==============================] - 0s 4ms/step - loss: 0.0366 - accuracy: 0.9897 - val_loss: 0.5400 - val_accuracy: 0.8654\n",
      "Epoch 10/20\n",
      "118/118 [==============================] - 0s 4ms/step - loss: 0.0277 - accuracy: 0.9918 - val_loss: 0.6009 - val_accuracy: 0.8693\n",
      "Epoch 11/20\n",
      "118/118 [==============================] - 0s 4ms/step - loss: 0.0190 - accuracy: 0.9950 - val_loss: 0.6465 - val_accuracy: 0.8663\n",
      "Epoch 12/20\n",
      "118/118 [==============================] - 0s 4ms/step - loss: 0.0140 - accuracy: 0.9966 - val_loss: 0.7198 - val_accuracy: 0.8672\n",
      "Epoch 13/20\n",
      "118/118 [==============================] - 0s 4ms/step - loss: 0.0091 - accuracy: 0.9982 - val_loss: 0.7813 - val_accuracy: 0.8622\n",
      "Epoch 14/20\n",
      "118/118 [==============================] - 0s 4ms/step - loss: 0.0066 - accuracy: 0.9989 - val_loss: 0.8428 - val_accuracy: 0.8632\n",
      "Epoch 15/20\n",
      "118/118 [==============================] - 0s 4ms/step - loss: 0.0036 - accuracy: 0.9997 - val_loss: 0.9944 - val_accuracy: 0.8486\n",
      "Epoch 16/20\n",
      "118/118 [==============================] - 0s 4ms/step - loss: 0.0023 - accuracy: 0.9999 - val_loss: 0.9921 - val_accuracy: 0.8634\n",
      "Epoch 17/20\n",
      "118/118 [==============================] - 0s 4ms/step - loss: 0.0017 - accuracy: 0.9998 - val_loss: 1.0628 - val_accuracy: 0.8631\n",
      "Epoch 18/20\n",
      "118/118 [==============================] - 0s 4ms/step - loss: 9.2323e-04 - accuracy: 0.9999 - val_loss: 1.1221 - val_accuracy: 0.8599\n",
      "Epoch 19/20\n",
      "118/118 [==============================] - 0s 4ms/step - loss: 5.5689e-04 - accuracy: 0.9999 - val_loss: 1.2236 - val_accuracy: 0.8626\n",
      "Epoch 20/20\n",
      "118/118 [==============================] - 0s 4ms/step - loss: 3.0552e-04 - accuracy: 0.9999 - val_loss: 1.2826 - val_accuracy: 0.8616\n"
     ]
    },
    {
     "data": {
      "text/plain": [
       "<keras.src.callbacks.History at 0x2b30e3c8290>"
      ]
     },
     "execution_count": 11,
     "metadata": {},
     "output_type": "execute_result"
    }
   ],
   "source": [
    "# Model training\n",
    "history = model.fit(partial_X_train,partial_y_train,epochs=20,batch_size=128,validation_data=(X_val,y_val))\n",
    "history"
   ]
  },
  {
   "cell_type": "code",
   "execution_count": 12,
   "metadata": {},
   "outputs": [
    {
     "data": {
      "text/plain": [
       "dict_keys(['loss', 'accuracy', 'val_loss', 'val_accuracy'])"
      ]
     },
     "execution_count": 12,
     "metadata": {},
     "output_type": "execute_result"
    }
   ],
   "source": [
    "# Dictionary of the training data during training\n",
    "history_dict=history.history\n",
    "history_dict.keys()"
   ]
  },
  {
   "cell_type": "code",
   "execution_count": 13,
   "metadata": {},
   "outputs": [
    {
     "data": {
      "image/png": "[encoded data removed]",
      "text/plain": [
       "<Figure size 640x480 with 1 Axes>"
      ]
     },
     "metadata": {},
     "output_type": "display_data"
    }
   ],
   "source": [
    "import matplotlib.pyplot as plt\n",
    "epochs = range(1,len(history_dict['accuracy'])+1)\n",
    "plt.plot(epochs,history_dict['accuracy'],\"bo\",label=\"Training Accuracy\") # \"bo\" for dotted line\n",
    "plt.plot(epochs,history_dict['val_accuracy'],\"b\",label=\"Validation Accuracy\") # \"b\" for normal line\n",
    "plt.title(\"Training and Validation Accuracy\")\n",
    "plt.xlabel(\"Epochs\")\n",
    "plt.ylabel(\"Accuracy\")\n",
    "plt.legend()\n",
    "plt.show()"
   ]
  },
  {
   "cell_type": "code",
   "execution_count": 14,
   "metadata": {},
   "outputs": [
    {
     "data": {
      "image/png": "[encoded data removed]",
      "text/plain": [
       "<Figure size 640x480 with 1 Axes>"
      ]
     },
     "metadata": {},
     "output_type": "display_data"
    }
   ],
   "source": [
    "epochs = range(1,len(history_dict['loss'])+1)\n",
    "plt.plot(epochs,history_dict['loss'],\"bo\",label=\"Training Loss\") # \"bo\" for dotted line\n",
    "plt.plot(epochs,history_dict['val_loss'],\"b\",label=\"Validation Loss\") # \"b\" for normal line\n",
    "plt.title(\"Training and Validation Loss\")\n",
    "plt.xlabel(\"Epochs\")\n",
    "plt.ylabel(\"Loss\")\n",
    "plt.legend()\n",
    "plt.show()"
   ]
  },
  {
   "cell_type": "code",
   "execution_count": 15,
   "metadata": {},
   "outputs": [],
   "source": [
    "# Validation loss is increasing after epoch 4, this means its overfitting, so we need to adjust the epochs to 4\n",
    "\n",
    "# Similar to previous model\n",
    "model1 = Sequential([\n",
    "    layers.Dense(units=16,activation=\"relu\"),\n",
    "    layers.Dense(units=16,activation=\"relu\"),\n",
    "    layers.Dense(units=1,activation=\"sigmoid\")\n",
    "])"
   ]
  },
  {
   "cell_type": "code",
   "execution_count": 16,
   "metadata": {},
   "outputs": [],
   "source": [
    "model1.compile(loss=\"binary_crossentropy\",optimizer=\"rmsprop\",metrics=[\"accuracy\"])"
   ]
  },
  {
   "cell_type": "code",
   "execution_count": 17,
   "metadata": {},
   "outputs": [
    {
     "name": "stdout",
     "output_type": "stream",
     "text": [
      "Epoch 1/4\n",
      "118/118 [==============================] - 1s 7ms/step - loss: 0.4271 - accuracy: 0.8317 - val_loss: 0.3374 - val_accuracy: 0.8657\n",
      "Epoch 2/4\n",
      "118/118 [==============================] - 0s 4ms/step - loss: 0.2274 - accuracy: 0.9159 - val_loss: 0.3800 - val_accuracy: 0.8449\n",
      "Epoch 3/4\n",
      "118/118 [==============================] - 1s 4ms/step - loss: 0.1659 - accuracy: 0.9416 - val_loss: 0.3359 - val_accuracy: 0.8665\n",
      "Epoch 4/4\n",
      "118/118 [==============================] - 1s 4ms/step - loss: 0.1258 - accuracy: 0.9555 - val_loss: 0.4601 - val_accuracy: 0.8503\n"
     ]
    },
    {
     "data": {
      "text/plain": [
       "<keras.src.callbacks.History at 0x2b304771490>"
      ]
     },
     "execution_count": 17,
     "metadata": {},
     "output_type": "execute_result"
    }
   ],
   "source": [
    "history1 = model1.fit(partial_X_train,partial_y_train,epochs=4,batch_size=128,validation_data=(X_val,y_val))\n",
    "history1"
   ]
  },
  {
   "cell_type": "code",
   "execution_count": 19,
   "metadata": {},
   "outputs": [
    {
     "name": "stdout",
     "output_type": "stream",
     "text": [
      "782/782 [==============================] - 1s 2ms/step - loss: 0.4806 - accuracy: 0.8422\n"
     ]
    }
   ],
   "source": [
    "results = model1.evaluate(X_test,y_test)"
   ]
  },
  {
   "cell_type": "code",
   "execution_count": 20,
   "metadata": {},
   "outputs": [],
   "source": [
    "# 84 percent accuracy on test data"
   ]
  },
  {
   "cell_type": "code",
   "execution_count": 21,
   "metadata": {},
   "outputs": [
    {
     "name": "stdout",
     "output_type": "stream",
     "text": [
      "782/782 [==============================] - 1s 875us/step\n"
     ]
    }
   ],
   "source": [
    "predictions_on_new_data = model1.predict(X_test)"
   ]
  },
  {
   "cell_type": "code",
   "execution_count": 22,
   "metadata": {},
   "outputs": [
    {
     "data": {
      "text/plain": [
       "array([[0.28218856],\n",
       "       [0.9999997 ],\n",
       "       [0.9993874 ],\n",
       "       ...,\n",
       "       [0.10526617],\n",
       "       [0.32852495],\n",
       "       [0.8956639 ]], dtype=float32)"
      ]
     },
     "execution_count": 22,
     "metadata": {},
     "output_type": "execute_result"
    }
   ],
   "source": [
    "predictions_on_new_data"
   ]
  },
  {
   "cell_type": "code",
   "execution_count": null,
   "metadata": {},
   "outputs": [],
   "source": []
  }
 ],
 "metadata": {
  "kernelspec": {
   "display_name": "base",
   "language": "python",
   "name": "python3"
  },
  "language_info": {
   "codemirror_mode": {
    "name": "ipython",
    "version": 3
   },
   "file_extension": ".py",
   "mimetype": "text/x-python",
   "name": "python",
   "nbconvert_exporter": "python",
   "pygments_lexer": "ipython3",
   "version": "3.11.5"
  }
 },
 "nbformat": 4,
 "nbformat_minor": 2
}
