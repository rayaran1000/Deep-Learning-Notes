{
 "cells": [
  {
   "cell_type": "code",
   "execution_count": 1,
   "metadata": {},
   "outputs": [],
   "source": [
    "import tensorflow as tf\n",
    "import keras\n",
    "import numpy as np"
   ]
  },
  {
   "cell_type": "code",
   "execution_count": 2,
   "metadata": {},
   "outputs": [],
   "source": [
    "from keras.datasets import mnist\n",
    "(train_data,train_labels),(test_data,test_labels) = mnist.load_data()"
   ]
  },
  {
   "cell_type": "code",
   "execution_count": 3,
   "metadata": {},
   "outputs": [],
   "source": [
    "from keras.layers import Dense,Input, Dropout"
   ]
  },
  {
   "cell_type": "code",
   "execution_count": 4,
   "metadata": {},
   "outputs": [
    {
     "data": {
      "text/plain": [
       "(60000, 28, 28)"
      ]
     },
     "execution_count": 4,
     "metadata": {},
     "output_type": "execute_result"
    }
   ],
   "source": [
    "train_data.shape"
   ]
  },
  {
   "cell_type": "code",
   "execution_count": 5,
   "metadata": {},
   "outputs": [],
   "source": [
    "# Reshaping the input data and scaling\n",
    "\n",
    "X_train = train_data.reshape(train_data.shape[0],28*28).astype('float32') / 255.0\n",
    "y_train = train_labels\n",
    "\n",
    "X_test = test_data.reshape(test_data.shape[0],28*28).astype('float32') / 255.0\n",
    "y_test = test_labels"
   ]
  },
  {
   "cell_type": "code",
   "execution_count": 6,
   "metadata": {},
   "outputs": [
    {
     "data": {
      "text/plain": [
       "(60000,)"
      ]
     },
     "execution_count": 6,
     "metadata": {},
     "output_type": "execute_result"
    }
   ],
   "source": [
    "y_train.shape"
   ]
  },
  {
   "cell_type": "code",
   "execution_count": 7,
   "metadata": {},
   "outputs": [
    {
     "data": {
      "text/plain": [
       "(60000,)"
      ]
     },
     "execution_count": 7,
     "metadata": {},
     "output_type": "execute_result"
    }
   ],
   "source": [
    "y_train.shape"
   ]
  },
  {
   "cell_type": "code",
   "execution_count": 8,
   "metadata": {},
   "outputs": [],
   "source": [
    "inputs = Input(shape=(28*28,)) # input shape = row*column,number of training samples\n",
    "\n",
    "Hidden_layer1 = Dense(units=512,activation=\"relu\")(inputs)\n",
    "Hidden_layer1 = Dropout(0.5)(Hidden_layer1)\n",
    "Hidden_layer2 = Dense(units=64,activation=\"relu\")(Hidden_layer1)\n",
    "\n",
    "outputs = Dense(units=10,activation=\"softmax\")(Hidden_layer2)\n",
    "\n",
    "model = keras.Model(inputs=inputs,outputs=outputs)"
   ]
  },
  {
   "cell_type": "code",
   "execution_count": 9,
   "metadata": {},
   "outputs": [
    {
     "name": "stdout",
     "output_type": "stream",
     "text": [
      "Model: \"model\"\n",
      "_________________________________________________________________\n",
      " Layer (type)                Output Shape              Param #   \n",
      "=================================================================\n",
      " input_1 (InputLayer)        [(None, 784)]             0         \n",
      "                                                                 \n",
      " dense (Dense)               (None, 512)               401920    \n",
      "                                                                 \n",
      " dropout (Dropout)           (None, 512)               0         \n",
      "                                                                 \n",
      " dense_1 (Dense)             (None, 64)                32832     \n",
      "                                                                 \n",
      " dense_2 (Dense)             (None, 10)                650       \n",
      "                                                                 \n",
      "=================================================================\n",
      "Total params: 435,402\n",
      "Trainable params: 435,402\n",
      "Non-trainable params: 0\n",
      "_________________________________________________________________\n"
     ]
    }
   ],
   "source": [
    "model.summary()"
   ]
  },
  {
   "cell_type": "code",
   "execution_count": 10,
   "metadata": {},
   "outputs": [],
   "source": [
    "model.compile(optimizer=\"rmsprop\",loss=\"sparse_categorical_crossentropy\",metrics=\"accuracy\")\n",
    "# If your targets are provided in one-hot encoded format, you typically use categorical_crossentropy.\n",
    "# If your targets are provided as integers representing class indices, you typically use sparse_categorical_crossentropy."
   ]
  },
  {
   "cell_type": "code",
   "execution_count": 11,
   "metadata": {},
   "outputs": [],
   "source": [
    "from keras.callbacks import EarlyStopping, ModelCheckpoint"
   ]
  },
  {
   "cell_type": "code",
   "execution_count": 12,
   "metadata": {},
   "outputs": [],
   "source": [
    "# Applying early stopping and model checkpoint(always applied together)  ----->  Early stopping stops the training once validation score does't improve and model checkpoint saves the best model till training is done \n",
    "callbacks_list = [EarlyStopping(monitor=\"val_accuracy\",patience=2),ModelCheckpoint(filepath=\"checkpoint_path.keras\",monitor=\"val_loss\",save_best_only=True)]\n",
    "# monitor --> the parameter that the function will monitor whether its going down or not\n",
    "# patience --> if the validation loss is not reducing even after patience value number of steps, then the training stops\n",
    "# -----------------------------------------------------------------------------------------\n",
    "# filepath --> saves the model in this destination path\n",
    "# monitor --> the function won't update the model file unless val_loss has improved during training\n",
    "# save_best_only --> saves only the best model and is decided on the basis of the monitor argument"
   ]
  },
  {
   "cell_type": "code",
   "execution_count": 13,
   "metadata": {},
   "outputs": [
    {
     "name": "stdout",
     "output_type": "stream",
     "text": [
      "Epoch 1/100\n",
      "1125/1125 [==============================] - 6s 5ms/step - loss: 0.3302 - accuracy: 0.9021 - val_loss: 0.1817 - val_accuracy: 0.9470\n",
      "Epoch 2/100\n",
      "1125/1125 [==============================] - 5s 4ms/step - loss: 0.1778 - accuracy: 0.9482 - val_loss: 0.1331 - val_accuracy: 0.9619\n",
      "Epoch 3/100\n",
      "1125/1125 [==============================] - 4s 4ms/step - loss: 0.1464 - accuracy: 0.9576 - val_loss: 0.1357 - val_accuracy: 0.9658\n",
      "Epoch 4/100\n",
      "1125/1125 [==============================] - 4s 4ms/step - loss: 0.1290 - accuracy: 0.9651 - val_loss: 0.1308 - val_accuracy: 0.9668\n",
      "Epoch 5/100\n",
      "1125/1125 [==============================] - 5s 4ms/step - loss: 0.1194 - accuracy: 0.9669 - val_loss: 0.1287 - val_accuracy: 0.9689\n",
      "Epoch 6/100\n",
      "1125/1125 [==============================] - 4s 4ms/step - loss: 0.1098 - accuracy: 0.9707 - val_loss: 0.1312 - val_accuracy: 0.9703\n",
      "Epoch 7/100\n",
      "1125/1125 [==============================] - 4s 4ms/step - loss: 0.1062 - accuracy: 0.9722 - val_loss: 0.1344 - val_accuracy: 0.9708\n",
      "Epoch 8/100\n",
      "1125/1125 [==============================] - 4s 4ms/step - loss: 0.1030 - accuracy: 0.9744 - val_loss: 0.1228 - val_accuracy: 0.9741\n",
      "Epoch 9/100\n",
      "1125/1125 [==============================] - 4s 4ms/step - loss: 0.0972 - accuracy: 0.9746 - val_loss: 0.1396 - val_accuracy: 0.9730\n",
      "Epoch 10/100\n",
      "1125/1125 [==============================] - 4s 4ms/step - loss: 0.0913 - accuracy: 0.9766 - val_loss: 0.1413 - val_accuracy: 0.9728\n"
     ]
    },
    {
     "data": {
      "text/plain": [
       "<keras.callbacks.History at 0x237a3e2fa90>"
      ]
     },
     "execution_count": 13,
     "metadata": {},
     "output_type": "execute_result"
    }
   ],
   "source": [
    "history = model.fit(X_train,y_train,callbacks=callbacks_list,epochs=100,validation_split=0.4)\n",
    "history"
   ]
  },
  {
   "cell_type": "code",
   "execution_count": 14,
   "metadata": {},
   "outputs": [],
   "source": [
    "# training stops at epochs = 10, the validation accuracy stopped improving at epochs = 8, but it took 2 steps more to check , because patience value = 2"
   ]
  }
 ],
 "metadata": {
  "kernelspec": {
   "display_name": "tensorflowgpu",
   "language": "python",
   "name": "python3"
  },
  "language_info": {
   "codemirror_mode": {
    "name": "ipython",
    "version": 3
   },
   "file_extension": ".py",
   "mimetype": "text/x-python",
   "name": "python",
   "nbconvert_exporter": "python",
   "pygments_lexer": "ipython3",
   "version": "3.10.13"
  }
 },
 "nbformat": 4,
 "nbformat_minor": 2
}
