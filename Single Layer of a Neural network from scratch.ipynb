{
 "cells": [
  {
   "cell_type": "code",
   "execution_count": 1,
   "metadata": {},
   "outputs": [],
   "source": [
    "import tensorflow as tf\n",
    "from tensorflow import keras"
   ]
  },
  {
   "cell_type": "code",
   "execution_count": 36,
   "metadata": {},
   "outputs": [],
   "source": [
    "# Class for creating the dense layer\n",
    "class DenseLayer(keras.layers.Layer): # Inheriting all the keras layers functions from the base class layers\n",
    "    def __init__(self, units, activation=None): # Taking the activation and units attributes from the \"layers\" in the base class\n",
    "        super().__init__()\n",
    "        self.units=units # Units defines the number of neurons in that layer\n",
    "        self.activation=activation # Activation function used in the layer\n",
    "    \n",
    "    def build(self,input_shape): # Function used to build and initialize the weights and biases of the layers\n",
    "        input_dim = input_shape[-1] # The last value in the input_shape is the number of features in the input, so that will be the input_dim\n",
    "        self.W = self.add_weight(shape=(input_dim,self.units),initializer=\"random_normal\") # Since units is the number of neurons in the layer, so that will define the output_dim of the layer\n",
    "        self.b = self.add_weight(shape=(self.units,),initializer=\"zeros\") # Initializing the bias as zero\n",
    "\n",
    "    def call(self,inputs):\n",
    "        output = tf.matmul(inputs,self.W) + self.b  # Output of layer before activation function(remeber the order inputs then self.W during matmul)\n",
    "        if self.activation is not None:  # If activation is not specified , then return the output directly, else apply the activation function\n",
    "            output = self.activation(output) # Output of layer after activation function\n",
    "        return output \n"
   ]
  },
  {
   "cell_type": "code",
   "execution_count": 37,
   "metadata": {},
   "outputs": [],
   "source": [
    "dense_layer1 = DenseLayer(units=32,activation=tf.nn.relu) # Relu needs to be applied like this(Because we have not built a string convertor to call the appropriate activation function just by passing a string like \"relu\")"
   ]
  },
  {
   "cell_type": "code",
   "execution_count": 40,
   "metadata": {},
   "outputs": [
    {
     "data": {
      "text/plain": [
       "<tf.Tensor: shape=(2, 32), dtype=float32, numpy=\n",
       "array([[0.        , 0.77337736, 0.        , 0.        , 0.11021197,\n",
       "        0.        , 2.5045094 , 0.        , 0.        , 0.        ,\n",
       "        0.        , 0.04548627, 0.        , 0.        , 0.        ,\n",
       "        0.15298162, 1.9864225 , 0.        , 0.56608814, 0.        ,\n",
       "        0.28354657, 2.0488298 , 3.0669875 , 0.        , 0.        ,\n",
       "        0.        , 0.4210223 , 0.        , 0.        , 0.        ,\n",
       "        0.00889295, 0.        ],\n",
       "       [0.        , 0.77337736, 0.        , 0.        , 0.11021197,\n",
       "        0.        , 2.5045094 , 0.        , 0.        , 0.        ,\n",
       "        0.        , 0.04548627, 0.        , 0.        , 0.        ,\n",
       "        0.15298162, 1.9864225 , 0.        , 0.56608814, 0.        ,\n",
       "        0.28354657, 2.0488298 , 3.0669875 , 0.        , 0.        ,\n",
       "        0.        , 0.4210223 , 0.        , 0.        , 0.        ,\n",
       "        0.00889295, 0.        ]], dtype=float32)>"
      ]
     },
     "execution_count": 40,
     "metadata": {},
     "output_type": "execute_result"
    }
   ],
   "source": [
    "input_tensor = tf.ones(shape=(2,784))\n",
    "output_tensor = dense_layer1(input_tensor)\n",
    "output_tensor"
   ]
  },
  {
   "cell_type": "code",
   "execution_count": null,
   "metadata": {},
   "outputs": [],
   "source": []
  }
 ],
 "metadata": {
  "kernelspec": {
   "display_name": "base",
   "language": "python",
   "name": "python3"
  },
  "language_info": {
   "codemirror_mode": {
    "name": "ipython",
    "version": 3
   },
   "file_extension": ".py",
   "mimetype": "text/x-python",
   "name": "python",
   "nbconvert_exporter": "python",
   "pygments_lexer": "ipython3",
   "version": "3.11.5"
  }
 },
 "nbformat": 4,
 "nbformat_minor": 2
}
