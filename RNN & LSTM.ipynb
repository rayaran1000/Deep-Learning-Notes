{
 "cells": [
  {
   "cell_type": "code",
   "execution_count": 1,
   "metadata": {},
   "outputs": [],
   "source": [
    "import tensorflow as tf\n",
    "import keras\n",
    "import numpy as np"
   ]
  },
  {
   "cell_type": "code",
   "execution_count": null,
   "metadata": {},
   "outputs": [],
   "source": [
    "# Don't run the below codes(pseudo codes)"
   ]
  },
  {
   "cell_type": "code",
   "execution_count": null,
   "metadata": {},
   "outputs": [],
   "source": [
    "# Pseudocode of RNN \n",
    "\n",
    "state_t = 0  # Intial current state of the RNN cell\n",
    "for input_t in input_sequence: # input_t is the inputs present in the current sequence ( So RNN iterates over the input sequence considering each input present in the current sequence)\n",
    "    output_t = function(input_t, state_t) # The output of the RNN in time 't' calculated as a function of input at time 't' and state at time 't'\n",
    "    state_t = output_t  # Update the current state of the RNN cell ( This will then be the input state of the RNN cell at time 't+1')"
   ]
  },
  {
   "cell_type": "code",
   "execution_count": null,
   "metadata": {},
   "outputs": [],
   "source": [
    "# The function calculating the output_t is depended on weight and bias(similar to the feed forward function)\n",
    "\n",
    "# Pseudocode\n",
    "\n",
    "state_t = 0 # Intial current state of the RNN cell\n",
    "for input_t in input_sequence:\n",
    "    output_t = activation(dot(W1,input_t) + dot(W2,state_t) + bias) # W1 , W2 are the weights for input_t and state_t\n",
    "    state_t = output_t # Update the current state of the RNN cell ( This will then be the input state of the RNN cell at time 't+1')\n"
   ]
  },
  {
   "cell_type": "code",
   "execution_count": 2,
   "metadata": {},
   "outputs": [],
   "source": [
    "# Single RNN layer as output ( return_sequence can be true or false)\n",
    "\n",
    "from keras.layers import SimpleRNN , Input\n",
    "from keras.models import Model\n",
    "\n",
    "num_features = 14\n",
    "steps = 120\n",
    "\n",
    "input_layer = Input(shape=(steps,num_features)) \n",
    "output_layer= SimpleRNN(16,return_sequences=False)(input_layer)\n",
    "\n",
    "model1 = Model(inputs=input_layer,outputs=output_layer)"
   ]
  },
  {
   "cell_type": "code",
   "execution_count": 3,
   "metadata": {},
   "outputs": [],
   "source": [
    "# When stacking RNN layer like below, always keep return_sequence = True, so that it returns tensor (batch_size,timestamp,output_features) instead of just (batch_size,output_features)\n",
    "\n",
    "num_features = 14\n",
    "steps = 120\n",
    "\n",
    "input_layer = Input(shape=(steps,num_features)) # Steps is the number of inputs in the sequence\n",
    "rnn_layer1 = SimpleRNN(16,return_sequences=True)(input_layer)\n",
    "output_layer = SimpleRNN(16,return_sequences=True)(rnn_layer1) # Output\n",
    "\n",
    "model2 = Model(inputs=input_layer,outputs=output_layer)\n"
   ]
  },
  {
   "cell_type": "code",
   "execution_count": 4,
   "metadata": {},
   "outputs": [],
   "source": [
    "# Due to Vanishing gradient issue , the RNN doens't remember everything in a single sequence, so LSTM came into picture"
   ]
  },
  {
   "cell_type": "code",
   "execution_count": 5,
   "metadata": {},
   "outputs": [],
   "source": [
    "# Advanced features of LSTM layers ( dropout , stacking and Bidirectional layers)"
   ]
  },
  {
   "cell_type": "code",
   "execution_count": 6,
   "metadata": {},
   "outputs": [
    {
     "name": "stdout",
     "output_type": "stream",
     "text": [
      "['\"Date Time\"', '\"p (mbar)\"', '\"T (degC)\"', '\"Tpot (K)\"', '\"Tdew (degC)\"', '\"rh (%)\"', '\"VPmax (mbar)\"', '\"VPact (mbar)\"', '\"VPdef (mbar)\"', '\"sh (g/kg)\"', '\"H2OC (mmol/mol)\"', '\"rho (g/m**3)\"', '\"wv (m/s)\"', '\"max. wv (m/s)\"', '\"wd (deg)\"']\n",
      "420551\n"
     ]
    }
   ],
   "source": [
    "# Again using the Jena dataset, that we used in Time series DL notebook\n",
    "\n",
    "import os\n",
    "\n",
    "fname = os.path.join('artifacts','jena_climate_2009_2016.csv')\n",
    "\n",
    "with open(fname) as f:\n",
    "    data = f.read()\n",
    "\n",
    "lines = data.split('\\n')\n",
    "header = lines[0].split(\",\")\n",
    "lines = lines[1:]\n",
    "print(header) # Features of the dataset\n",
    "print(len(lines)) # Number of records in the dataset"
   ]
  },
  {
   "cell_type": "code",
   "execution_count": 7,
   "metadata": {},
   "outputs": [
    {
     "data": {
      "text/html": [
       "<div>\n",
       "<style scoped>\n",
       "    .dataframe tbody tr th:only-of-type {\n",
       "        vertical-align: middle;\n",
       "    }\n",
       "\n",
       "    .dataframe tbody tr th {\n",
       "        vertical-align: top;\n",
       "    }\n",
       "\n",
       "    .dataframe thead th {\n",
       "        text-align: right;\n",
       "    }\n",
       "</style>\n",
       "<table border=\"1\" class=\"dataframe\">\n",
       "  <thead>\n",
       "    <tr style=\"text-align: right;\">\n",
       "      <th></th>\n",
       "      <th>Date Time</th>\n",
       "      <th>p (mbar)</th>\n",
       "      <th>T (degC)</th>\n",
       "      <th>Tpot (K)</th>\n",
       "      <th>Tdew (degC)</th>\n",
       "      <th>rh (%)</th>\n",
       "      <th>VPmax (mbar)</th>\n",
       "      <th>VPact (mbar)</th>\n",
       "      <th>VPdef (mbar)</th>\n",
       "      <th>sh (g/kg)</th>\n",
       "      <th>H2OC (mmol/mol)</th>\n",
       "      <th>rho (g/m**3)</th>\n",
       "      <th>wv (m/s)</th>\n",
       "      <th>max. wv (m/s)</th>\n",
       "      <th>wd (deg)</th>\n",
       "    </tr>\n",
       "  </thead>\n",
       "  <tbody>\n",
       "    <tr>\n",
       "      <th>0</th>\n",
       "      <td>01.01.2009 00:10:00</td>\n",
       "      <td>996.52</td>\n",
       "      <td>-8.02</td>\n",
       "      <td>265.40</td>\n",
       "      <td>-8.90</td>\n",
       "      <td>93.3</td>\n",
       "      <td>3.33</td>\n",
       "      <td>3.11</td>\n",
       "      <td>0.22</td>\n",
       "      <td>1.94</td>\n",
       "      <td>3.12</td>\n",
       "      <td>1307.75</td>\n",
       "      <td>1.03</td>\n",
       "      <td>1.75</td>\n",
       "      <td>152.3</td>\n",
       "    </tr>\n",
       "    <tr>\n",
       "      <th>1</th>\n",
       "      <td>01.01.2009 00:20:00</td>\n",
       "      <td>996.57</td>\n",
       "      <td>-8.41</td>\n",
       "      <td>265.01</td>\n",
       "      <td>-9.28</td>\n",
       "      <td>93.4</td>\n",
       "      <td>3.23</td>\n",
       "      <td>3.02</td>\n",
       "      <td>0.21</td>\n",
       "      <td>1.89</td>\n",
       "      <td>3.03</td>\n",
       "      <td>1309.80</td>\n",
       "      <td>0.72</td>\n",
       "      <td>1.50</td>\n",
       "      <td>136.1</td>\n",
       "    </tr>\n",
       "    <tr>\n",
       "      <th>2</th>\n",
       "      <td>01.01.2009 00:30:00</td>\n",
       "      <td>996.53</td>\n",
       "      <td>-8.51</td>\n",
       "      <td>264.91</td>\n",
       "      <td>-9.31</td>\n",
       "      <td>93.9</td>\n",
       "      <td>3.21</td>\n",
       "      <td>3.01</td>\n",
       "      <td>0.20</td>\n",
       "      <td>1.88</td>\n",
       "      <td>3.02</td>\n",
       "      <td>1310.24</td>\n",
       "      <td>0.19</td>\n",
       "      <td>0.63</td>\n",
       "      <td>171.6</td>\n",
       "    </tr>\n",
       "    <tr>\n",
       "      <th>3</th>\n",
       "      <td>01.01.2009 00:40:00</td>\n",
       "      <td>996.51</td>\n",
       "      <td>-8.31</td>\n",
       "      <td>265.12</td>\n",
       "      <td>-9.07</td>\n",
       "      <td>94.2</td>\n",
       "      <td>3.26</td>\n",
       "      <td>3.07</td>\n",
       "      <td>0.19</td>\n",
       "      <td>1.92</td>\n",
       "      <td>3.08</td>\n",
       "      <td>1309.19</td>\n",
       "      <td>0.34</td>\n",
       "      <td>0.50</td>\n",
       "      <td>198.0</td>\n",
       "    </tr>\n",
       "    <tr>\n",
       "      <th>4</th>\n",
       "      <td>01.01.2009 00:50:00</td>\n",
       "      <td>996.51</td>\n",
       "      <td>-8.27</td>\n",
       "      <td>265.15</td>\n",
       "      <td>-9.04</td>\n",
       "      <td>94.1</td>\n",
       "      <td>3.27</td>\n",
       "      <td>3.08</td>\n",
       "      <td>0.19</td>\n",
       "      <td>1.92</td>\n",
       "      <td>3.09</td>\n",
       "      <td>1309.00</td>\n",
       "      <td>0.32</td>\n",
       "      <td>0.63</td>\n",
       "      <td>214.3</td>\n",
       "    </tr>\n",
       "  </tbody>\n",
       "</table>\n",
       "</div>"
      ],
      "text/plain": [
       "             Date Time  p (mbar)  T (degC)  Tpot (K)  Tdew (degC)  rh (%)  \\\n",
       "0  01.01.2009 00:10:00    996.52     -8.02    265.40        -8.90    93.3   \n",
       "1  01.01.2009 00:20:00    996.57     -8.41    265.01        -9.28    93.4   \n",
       "2  01.01.2009 00:30:00    996.53     -8.51    264.91        -9.31    93.9   \n",
       "3  01.01.2009 00:40:00    996.51     -8.31    265.12        -9.07    94.2   \n",
       "4  01.01.2009 00:50:00    996.51     -8.27    265.15        -9.04    94.1   \n",
       "\n",
       "   VPmax (mbar)  VPact (mbar)  VPdef (mbar)  sh (g/kg)  H2OC (mmol/mol)  \\\n",
       "0          3.33          3.11          0.22       1.94             3.12   \n",
       "1          3.23          3.02          0.21       1.89             3.03   \n",
       "2          3.21          3.01          0.20       1.88             3.02   \n",
       "3          3.26          3.07          0.19       1.92             3.08   \n",
       "4          3.27          3.08          0.19       1.92             3.09   \n",
       "\n",
       "   rho (g/m**3)  wv (m/s)  max. wv (m/s)  wd (deg)  \n",
       "0       1307.75      1.03           1.75     152.3  \n",
       "1       1309.80      0.72           1.50     136.1  \n",
       "2       1310.24      0.19           0.63     171.6  \n",
       "3       1309.19      0.34           0.50     198.0  \n",
       "4       1309.00      0.32           0.63     214.3  "
      ]
     },
     "execution_count": 7,
     "metadata": {},
     "output_type": "execute_result"
    }
   ],
   "source": [
    "import pandas as pd\n",
    "\n",
    "df = pd.read_csv(fname)\n",
    "df.head()"
   ]
  },
  {
   "cell_type": "code",
   "execution_count": 8,
   "metadata": {},
   "outputs": [],
   "source": [
    "# Extracting the temperature data and all data into seperate array(after removing the date time column)\n",
    "temperature = df['T (degC)'] \n",
    "raw_data = df.drop('Date Time',axis=1)"
   ]
  },
  {
   "cell_type": "code",
   "execution_count": 9,
   "metadata": {},
   "outputs": [],
   "source": [
    "# Converting them into numpy arrays\n",
    "temperature = temperature.to_numpy()\n",
    "raw_data = raw_data.to_numpy()"
   ]
  },
  {
   "cell_type": "code",
   "execution_count": 10,
   "metadata": {},
   "outputs": [
    {
     "data": {
      "text/plain": [
       "[<matplotlib.lines.Line2D at 0x2407fddc280>]"
      ]
     },
     "execution_count": 10,
     "metadata": {},
     "output_type": "execute_result"
    },
    {
     "data": {
      "image/png": "[encoded data removed]",
      "text/plain": [
       "<Figure size 640x480 with 1 Axes>"
      ]
     },
     "metadata": {},
     "output_type": "display_data"
    }
   ],
   "source": [
    "import matplotlib.pyplot as plt\n",
    "\n",
    "# Plot of temperature data over time (or over the dataset)\n",
    "plt.plot(range(len(temperature)),temperature)"
   ]
  },
  {
   "cell_type": "code",
   "execution_count": 11,
   "metadata": {},
   "outputs": [
    {
     "data": {
      "text/plain": [
       "[<matplotlib.lines.Line2D at 0x24080dfbe20>]"
      ]
     },
     "execution_count": 11,
     "metadata": {},
     "output_type": "execute_result"
    },
    {
     "data": {
      "image/png": "[encoded data removed]",
      "text/plain": [
       "<Figure size 640x480 with 1 Axes>"
      ]
     },
     "metadata": {},
     "output_type": "display_data"
    }
   ],
   "source": [
    "# Top 1440 records of temperature distribution over time\n",
    "plt.plot(range(1440),temperature[:1440])"
   ]
  },
  {
   "cell_type": "code",
   "execution_count": 12,
   "metadata": {},
   "outputs": [],
   "source": [
    "num_train_samples = int(0.5 * len(raw_data))\n",
    "num_val_samples = int(0.25 * len(raw_data)) \n",
    "num_test_samples = len(raw_data) - num_train_samples - num_val_samples\n",
    "\n",
    "# 50% - train data , 25 % validation data , 25% test data"
   ]
  },
  {
   "cell_type": "code",
   "execution_count": 13,
   "metadata": {},
   "outputs": [],
   "source": [
    "# Normalizing the entire dataset based on the mean and standard deviation of the training data(since each feature has different scales)\n",
    "# Can also be done using Standard Scaler\n",
    "mean = raw_data[:num_train_samples].mean(axis=0)\n",
    "std = raw_data[:num_val_samples].std(axis=0)\n",
    "\n",
    "raw_data = (raw_data-mean) / std"
   ]
  },
  {
   "cell_type": "code",
   "execution_count": 14,
   "metadata": {},
   "outputs": [],
   "source": [
    "# Creating the datasets\n",
    "\n",
    "sampling_rate = 6 # Out of 6, only 1 data point will be taken\n",
    "sequence_length = 120 # Previous 5 days data will be taken into account for predicting the new data points\n",
    "delay = sampling_rate * (sequence_length + 24 - 1) # Target of the sequence will be temperature 24 hours after the end of sequence\n",
    "batch_size = 256\n",
    "\n",
    "train_dataset = keras.utils.timeseries_dataset_from_array(\n",
    "    raw_data[:-delay],\n",
    "    targets = temperature[delay:],\n",
    "    sampling_rate = sampling_rate,\n",
    "    sequence_length = sequence_length,\n",
    "    shuffle=True,\n",
    "    batch_size = batch_size,\n",
    "    start_index=0,\n",
    "    end_index = num_train_samples\n",
    ")\n",
    "\n",
    "validation_dataset = keras.utils.timeseries_dataset_from_array(\n",
    "    raw_data[:-delay],\n",
    "    targets = temperature[delay:],\n",
    "    sampling_rate = sampling_rate,\n",
    "    sequence_length = sequence_length,\n",
    "    shuffle=True,\n",
    "    batch_size = batch_size,\n",
    "    start_index=num_train_samples,\n",
    "    end_index = num_train_samples + num_val_samples\n",
    ")\n",
    "\n",
    "test_dataset = keras.utils.timeseries_dataset_from_array(\n",
    "    raw_data[:-delay],\n",
    "    targets = temperature[delay:],\n",
    "    sampling_rate = sampling_rate,\n",
    "    sequence_length = sequence_length,\n",
    "    shuffle=True,\n",
    "    batch_size = batch_size,\n",
    "    start_index=num_train_samples + num_val_samples\n",
    ")\n"
   ]
  },
  {
   "cell_type": "code",
   "execution_count": 15,
   "metadata": {},
   "outputs": [],
   "source": [
    "# Dropouts for RNN Models should be applied consistently and constant mask needs to be applied for every timestamp ( constant dropout mask should be applied to the inner recurrent activations of a layer)\n"
   ]
  },
  {
   "cell_type": "code",
   "execution_count": 16,
   "metadata": {},
   "outputs": [],
   "source": [
    "from keras.layers import LSTM, Dense , Dropout\n",
    "from keras.callbacks import ModelCheckpoint"
   ]
  },
  {
   "cell_type": "code",
   "execution_count": 17,
   "metadata": {},
   "outputs": [
    {
     "name": "stdout",
     "output_type": "stream",
     "text": [
      "WARNING:tensorflow:Layer lstm will not use cuDNN kernels since it doesn't meet the criteria. It will use a generic GPU kernel as fallback when running on GPU.\n",
      "Epoch 1/2\n"
     ]
    }
   ],
   "source": [
    "# LSTM Model with Dropout\n",
    "\n",
    "input_layer = Input(shape=(sequence_length,raw_data.shape[-1]))\n",
    "\n",
    "lstm_layer = LSTM(32,recurrent_dropout=0.25,unroll=True)(input_layer) # Unroll so that while running on GPU, the training is faster but however the model takes more memory consumption(use for smaller RNN models)\n",
    "dropout_layer = Dropout(0.5)(lstm_layer)\n",
    "output_layer = Dense(1)(dropout_layer)\n",
    "\n",
    "model3 = Model(input_layer,output_layer)\n",
    "\n",
    "model3.compile(optimizer=\"rmsprop\",loss=\"mse\",metrics=\"mae\")\n",
    "\n",
    "callback_list = [\n",
    "    ModelCheckpoint(filepath=\"timeseries_lstm_dropout.keras\",save_best_only=True)\n",
    "]\n",
    "\n",
    "history3 = model3.fit(train_dataset,epochs=2,validation_data=validation_dataset,callbacks=callback_list)\n",
    "history3"
   ]
  },
  {
   "cell_type": "code",
   "execution_count": null,
   "metadata": {},
   "outputs": [],
   "source": [
    "from keras.layers import GRU"
   ]
  },
  {
   "cell_type": "code",
   "execution_count": null,
   "metadata": {},
   "outputs": [],
   "source": [
    "# Using GRU and stacking together( GRU is a more streamlined version of LSTM layer)\n",
    "\n",
    "input_layer = Input(shape=(sequence_length,raw_data.shape[-1]))\n",
    "\n",
    "gru_layer1 = GRU(32,recurrent_dropout=0.5,return_sequence=True)(input_layer)\n",
    "gru_layer2 = GRU(32,recurrent_dropout=0.5)(gru_layer1)\n",
    "dropout_layer = Dropout(0.5)(gru_layer2)\n",
    "output_layer = Dense(1)(dropout_layer)\n",
    "\n",
    "model4 = Model(input_layer,output_layer)\n",
    "\n",
    "model4.compile(optimizer=\"rmsprop\",loss=\"mse\",metrics=\"mae\")\n",
    "\n",
    "callback_list = [\n",
    "    ModelCheckpoint(filepath=\"timeseries_stacked_gru_dropout.keras\",save_best_only=True)\n",
    "]\n",
    "\n",
    "history4 = model4.fit(train_dataset,epochs=2,validation_data=validation_dataset,callbacks=callback_list)\n",
    "history4"
   ]
  },
  {
   "cell_type": "code",
   "execution_count": null,
   "metadata": {},
   "outputs": [],
   "source": [
    "# Bidirectional RNNs : Simple RNN layers like LSTM and GRU are highly dependent on the order of the input data in sequence\n",
    "# With bidirectional RNN, we first process the input data in both the directions use LSTM and RNN individually, then merge with their representations\n",
    "# Bidirectional RNN - Mostly used in NLP tasks"
   ]
  },
  {
   "cell_type": "code",
   "execution_count": null,
   "metadata": {},
   "outputs": [],
   "source": [
    "from keras.layers import Bidirectional\n",
    "\n",
    "input_layer = Input(shape=(sequence_length,raw_data.shape[-1]))\n",
    "\n",
    "bidirectional_layer = Bidirectional(LSTM(16))(input_layer)\n",
    "output_layer = Dense(1)(bidirectional_layer)\n",
    "\n",
    "model5 = Model(input_layer,output_layer)\n",
    "\n",
    "model5.compile(optimizer=\"rmsprop\",loss=\"mse\",metrics=\"mae\")\n",
    "\n",
    "callback_list = [\n",
    "    ModelCheckpoint(filepath=\"timeseries_stacked_gru_dropout.keras\",save_best_only=True)\n",
    "]\n",
    "\n",
    "history5 = model5.fit(train_dataset,epochs=2,validation_data=validation_dataset,callbacks=callback_list)\n",
    "history5"
   ]
  },
  {
   "cell_type": "code",
   "execution_count": null,
   "metadata": {},
   "outputs": [],
   "source": []
  }
 ],
 "metadata": {
  "kernelspec": {
   "display_name": "tensorflowgpu",
   "language": "python",
   "name": "python3"
  },
  "language_info": {
   "codemirror_mode": {
    "name": "ipython",
    "version": 3
   },
   "file_extension": ".py",
   "mimetype": "text/x-python",
   "name": "python",
   "nbconvert_exporter": "python",
   "pygments_lexer": "ipython3",
   "version": "3.10.13"
  }
 },
 "nbformat": 4,
 "nbformat_minor": 2
}
