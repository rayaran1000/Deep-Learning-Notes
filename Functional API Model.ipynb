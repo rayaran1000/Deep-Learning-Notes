{
 "cells": [
  {
   "cell_type": "code",
   "execution_count": 1,
   "metadata": {},
   "outputs": [],
   "source": [
    "import tensorflow as tf\n",
    "import keras"
   ]
  },
  {
   "cell_type": "code",
   "execution_count": 2,
   "metadata": {},
   "outputs": [],
   "source": [
    "# Functional model defined(1 input and 1 output)\n",
    "inputs = keras.Input(shape=(3,),name=\"my_input\") # Input layer defined in \"inputs\" object\n",
    "features = keras.layers.Dense(units=64, activation=\"relu\")(inputs) # Feature layer whose input is the input layer defined earlier (hidden layer defined in \"features\" object)\n",
    "outputs = keras.layers.Dense(units=1,activation=\"softmax\")(features) # Output layer whose input is the feature layer defined earlier (output layer defined in \"outputs\" object)\n",
    "model = keras.Model(inputs=inputs,outputs=outputs)"
   ]
  },
  {
   "cell_type": "code",
   "execution_count": 3,
   "metadata": {},
   "outputs": [
    {
     "data": {
      "text/plain": [
       "TensorShape([None, 3])"
      ]
     },
     "execution_count": 3,
     "metadata": {},
     "output_type": "execute_result"
    }
   ],
   "source": [
    "inputs.shape # The batch size of the input layer is variable(can have any value, since its presented as None)\n",
    "# inputs object is called a symbolic tensor - doesn't contain actual data but it contains the info about the specification of the actual tensors that the model will use as inputs"
   ]
  },
  {
   "cell_type": "code",
   "execution_count": 4,
   "metadata": {},
   "outputs": [
    {
     "data": {
      "text/plain": [
       "TensorShape([None, 64])"
      ]
     },
     "execution_count": 4,
     "metadata": {},
     "output_type": "execute_result"
    }
   ],
   "source": [
    "features.shape "
   ]
  },
  {
   "cell_type": "code",
   "execution_count": 5,
   "metadata": {},
   "outputs": [
    {
     "data": {
      "text/plain": [
       "TensorShape([None, 1])"
      ]
     },
     "execution_count": 5,
     "metadata": {},
     "output_type": "execute_result"
    }
   ],
   "source": [
    "outputs.shape"
   ]
  },
  {
   "cell_type": "code",
   "execution_count": 6,
   "metadata": {},
   "outputs": [],
   "source": [
    "from keras import Input, Model\n",
    "from keras.layers import Dense,Concatenate"
   ]
  },
  {
   "cell_type": "code",
   "execution_count": 7,
   "metadata": {},
   "outputs": [],
   "source": [
    "# Model for problem statement: 3 inputs --> Title of the ticket, text body of the ticket and tags added by the user\n",
    "#2 outputs --> Priority score of the ticket, department which will handle the ticket\n",
    "\n",
    "# Vocabulary is used to convert the text inputs into arrays\n",
    "\n",
    "vocabulary_size =10000\n",
    "num_tags = 100\n",
    "department_num = 4\n",
    "\n",
    "title_input = Input(shape=(vocabulary_size,),name=\"title input\")\n",
    "body_input = Input(shape=(vocabulary_size,),name=\"body input\")\n",
    "tags_input = Input(shape=(num_tags,),name=\"tags input\")\n",
    "\n",
    "features_concatenate = Concatenate()([title_input, body_input,tags_input]) # Layer to concatenate all the 3 inputs together\n",
    "features_layer = Dense(units=64,activation=\"relu\")(features_concatenate) # Hidden layer to use the inputs for prediction\n",
    "priority_outputs = Dense(units=1,activation=\"softmax\",name=\"priority_outputs\")(features_layer) # Output layer to predict the priority score\n",
    "department_outputs = Dense(units=department_num,activation=\"softmax\",name=\"department_outputs\")(features_layer) # Output layer to predict the department(units = number of departments we have , since its multiclass classification) \n",
    "\n",
    "model1 = Model(inputs=[title_input,body_input,tags_input],outputs=[priority_outputs,department_outputs])"
   ]
  },
  {
   "cell_type": "code",
   "execution_count": 8,
   "metadata": {},
   "outputs": [
    {
     "name": "stdout",
     "output_type": "stream",
     "text": [
      "Model: \"model_1\"\n",
      "__________________________________________________________________________________________________\n",
      " Layer (type)                   Output Shape         Param #     Connected to                     \n",
      "==================================================================================================\n",
      " title input (InputLayer)       [(None, 10000)]      0           []                               \n",
      "                                                                                                  \n",
      " body input (InputLayer)        [(None, 10000)]      0           []                               \n",
      "                                                                                                  \n",
      " tags input (InputLayer)        [(None, 100)]        0           []                               \n",
      "                                                                                                  \n",
      " concatenate (Concatenate)      (None, 20100)        0           ['title input[0][0]',            \n",
      "                                                                  'body input[0][0]',             \n",
      "                                                                  'tags input[0][0]']             \n",
      "                                                                                                  \n",
      " dense_2 (Dense)                (None, 64)           1286464     ['concatenate[0][0]']            \n",
      "                                                                                                  \n",
      " priority_outputs (Dense)       (None, 1)            65          ['dense_2[0][0]']                \n",
      "                                                                                                  \n",
      " department_outputs (Dense)     (None, 4)            260         ['dense_2[0][0]']                \n",
      "                                                                                                  \n",
      "==================================================================================================\n",
      "Total params: 1,286,789\n",
      "Trainable params: 1,286,789\n",
      "Non-trainable params: 0\n",
      "__________________________________________________________________________________________________\n"
     ]
    }
   ],
   "source": [
    "model1.summary()"
   ]
  },
  {
   "cell_type": "code",
   "execution_count": 9,
   "metadata": {},
   "outputs": [],
   "source": [
    "# Creating random inputs for our model to train\n",
    "import numpy as np\n",
    "num_samples = 1500\n",
    "\n",
    "title_data = np.random.randint(0,2,size=(num_samples,vocabulary_size)) # lowest value , highest value , size\n",
    "body_data = np.random.randint(0,2,size=(num_samples,vocabulary_size))\n",
    "tags_data = np.random.randint(0,2,size=(num_samples,num_tags))\n",
    "\n",
    "priority_data = np.random.random(size=(num_samples,1))\n",
    "department_data = np.random.randint(0,2,size=(num_samples,department_num))"
   ]
  },
  {
   "cell_type": "code",
   "execution_count": 10,
   "metadata": {},
   "outputs": [],
   "source": [
    "# Model compilation\n",
    "model1.compile(loss=[\"mean_squared_error\",\"categorical_crossentropy\"],optimizer=\"rmsprop\",metrics=[\"mae\",\"accuracy\"]) # 2 losses and 2 metrics for 2 outputs"
   ]
  },
  {
   "cell_type": "code",
   "execution_count": 11,
   "metadata": {},
   "outputs": [
    {
     "name": "stdout",
     "output_type": "stream",
     "text": [
      "Epoch 1/20\n",
      "47/47 [==============================] - 2s 13ms/step - loss: 35.3374 - priority_outputs_loss: 0.3204 - department_outputs_loss: 35.0170 - priority_outputs_mae: 0.4903 - priority_outputs_accuracy: 0.0000e+00 - department_outputs_mae: 0.5051 - department_outputs_accuracy: 0.2660\n",
      "Epoch 2/20\n",
      "47/47 [==============================] - 1s 13ms/step - loss: 33.2169 - priority_outputs_loss: 0.3204 - department_outputs_loss: 32.8965 - priority_outputs_mae: 0.4903 - priority_outputs_accuracy: 0.0000e+00 - department_outputs_mae: 0.4947 - department_outputs_accuracy: 0.2333\n",
      "Epoch 3/20\n",
      "47/47 [==============================] - 1s 12ms/step - loss: 39.4649 - priority_outputs_loss: 0.3204 - department_outputs_loss: 39.1445 - priority_outputs_mae: 0.4903 - priority_outputs_accuracy: 0.0000e+00 - department_outputs_mae: 0.4887 - department_outputs_accuracy: 0.2573\n",
      "Epoch 4/20\n",
      "47/47 [==============================] - 1s 13ms/step - loss: 48.6458 - priority_outputs_loss: 0.3204 - department_outputs_loss: 48.3255 - priority_outputs_mae: 0.4903 - priority_outputs_accuracy: 0.0000e+00 - department_outputs_mae: 0.4863 - department_outputs_accuracy: 0.2627\n",
      "Epoch 5/20\n",
      "47/47 [==============================] - 1s 13ms/step - loss: 59.1801 - priority_outputs_loss: 0.3204 - department_outputs_loss: 58.8597 - priority_outputs_mae: 0.4903 - priority_outputs_accuracy: 0.0000e+00 - department_outputs_mae: 0.4904 - department_outputs_accuracy: 0.2400\n",
      "Epoch 6/20\n",
      "47/47 [==============================] - 1s 13ms/step - loss: 66.6290 - priority_outputs_loss: 0.3204 - department_outputs_loss: 66.3087 - priority_outputs_mae: 0.4903 - priority_outputs_accuracy: 0.0000e+00 - department_outputs_mae: 0.4778 - department_outputs_accuracy: 0.2927\n",
      "Epoch 7/20\n",
      "47/47 [==============================] - 1s 12ms/step - loss: 80.5248 - priority_outputs_loss: 0.3204 - department_outputs_loss: 80.2044 - priority_outputs_mae: 0.4903 - priority_outputs_accuracy: 0.0000e+00 - department_outputs_mae: 0.4928 - department_outputs_accuracy: 0.2520\n",
      "Epoch 8/20\n",
      "47/47 [==============================] - 1s 13ms/step - loss: 91.7765 - priority_outputs_loss: 0.3204 - department_outputs_loss: 91.4562 - priority_outputs_mae: 0.4903 - priority_outputs_accuracy: 0.0000e+00 - department_outputs_mae: 0.4922 - department_outputs_accuracy: 0.2460\n",
      "Epoch 9/20\n",
      "47/47 [==============================] - 1s 13ms/step - loss: 103.6203 - priority_outputs_loss: 0.3204 - department_outputs_loss: 103.2999 - priority_outputs_mae: 0.4903 - priority_outputs_accuracy: 0.0000e+00 - department_outputs_mae: 0.4902 - department_outputs_accuracy: 0.2580\n",
      "Epoch 10/20\n",
      "47/47 [==============================] - 1s 13ms/step - loss: 113.5967 - priority_outputs_loss: 0.3204 - department_outputs_loss: 113.2764 - priority_outputs_mae: 0.4903 - priority_outputs_accuracy: 0.0000e+00 - department_outputs_mae: 0.4913 - department_outputs_accuracy: 0.2580\n",
      "Epoch 11/20\n",
      "47/47 [==============================] - 1s 13ms/step - loss: 125.6132 - priority_outputs_loss: 0.3204 - department_outputs_loss: 125.2929 - priority_outputs_mae: 0.4903 - priority_outputs_accuracy: 0.0000e+00 - department_outputs_mae: 0.4936 - department_outputs_accuracy: 0.2687\n",
      "Epoch 12/20\n",
      "47/47 [==============================] - 1s 13ms/step - loss: 137.8088 - priority_outputs_loss: 0.3204 - department_outputs_loss: 137.4884 - priority_outputs_mae: 0.4903 - priority_outputs_accuracy: 0.0000e+00 - department_outputs_mae: 0.4893 - department_outputs_accuracy: 0.2640\n",
      "Epoch 13/20\n",
      "47/47 [==============================] - 1s 13ms/step - loss: 152.1266 - priority_outputs_loss: 0.3204 - department_outputs_loss: 151.8062 - priority_outputs_mae: 0.4903 - priority_outputs_accuracy: 0.0000e+00 - department_outputs_mae: 0.4966 - department_outputs_accuracy: 0.2580\n",
      "Epoch 14/20\n",
      "47/47 [==============================] - 1s 13ms/step - loss: 164.8722 - priority_outputs_loss: 0.3204 - department_outputs_loss: 164.5518 - priority_outputs_mae: 0.4903 - priority_outputs_accuracy: 0.0000e+00 - department_outputs_mae: 0.4910 - department_outputs_accuracy: 0.2600\n",
      "Epoch 15/20\n",
      "47/47 [==============================] - 1s 13ms/step - loss: 172.6777 - priority_outputs_loss: 0.3204 - department_outputs_loss: 172.3574 - priority_outputs_mae: 0.4903 - priority_outputs_accuracy: 0.0000e+00 - department_outputs_mae: 0.4928 - department_outputs_accuracy: 0.2453\n",
      "Epoch 16/20\n",
      "47/47 [==============================] - 1s 13ms/step - loss: 193.6653 - priority_outputs_loss: 0.3204 - department_outputs_loss: 193.3450 - priority_outputs_mae: 0.4903 - priority_outputs_accuracy: 0.0000e+00 - department_outputs_mae: 0.4963 - department_outputs_accuracy: 0.2367\n",
      "Epoch 17/20\n",
      "47/47 [==============================] - 1s 13ms/step - loss: 207.2892 - priority_outputs_loss: 0.3204 - department_outputs_loss: 206.9689 - priority_outputs_mae: 0.4903 - priority_outputs_accuracy: 0.0000e+00 - department_outputs_mae: 0.4998 - department_outputs_accuracy: 0.2353\n",
      "Epoch 18/20\n",
      "47/47 [==============================] - 1s 13ms/step - loss: 221.5350 - priority_outputs_loss: 0.3204 - department_outputs_loss: 221.2146 - priority_outputs_mae: 0.4903 - priority_outputs_accuracy: 0.0000e+00 - department_outputs_mae: 0.4973 - department_outputs_accuracy: 0.2467\n",
      "Epoch 19/20\n",
      "47/47 [==============================] - 1s 13ms/step - loss: 231.8444 - priority_outputs_loss: 0.3204 - department_outputs_loss: 231.5241 - priority_outputs_mae: 0.4903 - priority_outputs_accuracy: 0.0000e+00 - department_outputs_mae: 0.4979 - department_outputs_accuracy: 0.2260\n",
      "Epoch 20/20\n",
      "47/47 [==============================] - 1s 13ms/step - loss: 233.5002 - priority_outputs_loss: 0.3204 - department_outputs_loss: 233.1798 - priority_outputs_mae: 0.4903 - priority_outputs_accuracy: 0.0000e+00 - department_outputs_mae: 0.4844 - department_outputs_accuracy: 0.2647\n"
     ]
    },
    {
     "data": {
      "text/plain": [
       "<keras.callbacks.History at 0x21688ffd7e0>"
      ]
     },
     "execution_count": 11,
     "metadata": {},
     "output_type": "execute_result"
    }
   ],
   "source": [
    "history = model1.fit([title_data,body_data,tags_data],[priority_data,department_data],epochs=20)\n",
    "\n",
    "# If we don't have the order of the inputs and outputs, we can pass as a dictionary\n",
    "\n",
    "#model1.fit({\"title_input\":title_data, \"body_input\" : body_data, \"tags_input\":tags_data} , {\"priority_outputs\":priority_data, \"department_outputs\":department_data},epochs=20)\n",
    "history"
   ]
  },
  {
   "cell_type": "code",
   "execution_count": 12,
   "metadata": {},
   "outputs": [
    {
     "data": {
      "text/plain": [
       "dict_keys(['loss', 'priority_outputs_loss', 'department_outputs_loss', 'priority_outputs_mae', 'priority_outputs_accuracy', 'department_outputs_mae', 'department_outputs_accuracy'])"
      ]
     },
     "execution_count": 12,
     "metadata": {},
     "output_type": "execute_result"
    }
   ],
   "source": [
    "history_dict = history.history\n",
    "history_dict.keys()"
   ]
  },
  {
   "cell_type": "code",
   "execution_count": 24,
   "metadata": {},
   "outputs": [
    {
     "data": {
      "text/plain": [
       "[<keras.engine.input_layer.InputLayer at 0x216ef69ff70>,\n",
       " <keras.engine.input_layer.InputLayer at 0x216ef69fb50>,\n",
       " <keras.engine.input_layer.InputLayer at 0x216ef69e320>,\n",
       " <keras.layers.merging.concatenate.Concatenate at 0x216ef69e470>,\n",
       " <keras.layers.core.dense.Dense at 0x216ef69ff40>,\n",
       " <keras.layers.core.dense.Dense at 0x216ef7ac310>,\n",
       " <keras.layers.core.dense.Dense at 0x216ef7ac5e0>]"
      ]
     },
     "execution_count": 24,
     "metadata": {},
     "output_type": "execute_result"
    }
   ],
   "source": [
    "model1.layers"
   ]
  },
  {
   "cell_type": "code",
   "execution_count": 27,
   "metadata": {},
   "outputs": [
    {
     "data": {
      "text/plain": [
       "<keras.layers.core.dense.Dense at 0x216ef69ff40>"
      ]
     },
     "execution_count": 27,
     "metadata": {},
     "output_type": "execute_result"
    }
   ],
   "source": [
    "model1.layers[4] # Used to extract the layers from the model and if we want to add an additional output, instead of creating the model from scratch, we can use the exisiting model layers and \n",
    "# modeify them or add new layers, to create the new model"
   ]
  },
  {
   "cell_type": "code",
   "execution_count": 28,
   "metadata": {},
   "outputs": [
    {
     "data": {
      "text/plain": [
       "<KerasTensor: shape=(None, 20100) dtype=float32 (created by layer 'concatenate')>"
      ]
     },
     "execution_count": 28,
     "metadata": {},
     "output_type": "execute_result"
    }
   ],
   "source": [
    "model1.layers[4].input # To get the input info about the layer"
   ]
  },
  {
   "cell_type": "code",
   "execution_count": 34,
   "metadata": {},
   "outputs": [
    {
     "data": {
      "text/plain": [
       "<KerasTensor: shape=(None, 64) dtype=float32 (created by layer 'dense_2')>"
      ]
     },
     "execution_count": 34,
     "metadata": {},
     "output_type": "execute_result"
    }
   ],
   "source": [
    "model1.layers[4].output # To get the output info about the layer --> This is the output of the hidden dense layer"
   ]
  },
  {
   "cell_type": "code",
   "execution_count": 35,
   "metadata": {},
   "outputs": [],
   "source": [
    "# Now we are adding a new output called difficulty_output with 3 classes --> quick,medium and difficult"
   ]
  },
  {
   "cell_type": "code",
   "execution_count": 38,
   "metadata": {},
   "outputs": [
    {
     "name": "stdout",
     "output_type": "stream",
     "text": [
      "Epoch 1/20\n",
      "47/47 [==============================] - 2s 15ms/step - loss: 1162.3920 - priority_outputs_loss: 0.3204 - department_outputs_loss: 319.1971 - difficulty_output_loss: 842.8744 - priority_outputs_mae: 0.4903 - priority_outputs_accuracy: 0.0000e+00 - department_outputs_mae: 0.4950 - department_outputs_accuracy: 0.2533 - difficulty_output_mae: 0.4933 - difficulty_output_accuracy: 0.2860\n",
      "Epoch 2/20\n",
      "47/47 [==============================] - 1s 15ms/step - loss: 463.9489 - priority_outputs_loss: 0.3204 - department_outputs_loss: 278.0786 - difficulty_output_loss: 185.5501 - priority_outputs_mae: 0.4903 - priority_outputs_accuracy: 0.0000e+00 - department_outputs_mae: 0.4925 - department_outputs_accuracy: 0.2647 - difficulty_output_mae: 0.4940 - difficulty_output_accuracy: 0.3433\n",
      "Epoch 3/20\n",
      "47/47 [==============================] - 1s 15ms/step - loss: 467.6160 - priority_outputs_loss: 0.3204 - department_outputs_loss: 278.1009 - difficulty_output_loss: 189.1947 - priority_outputs_mae: 0.4903 - priority_outputs_accuracy: 0.0000e+00 - department_outputs_mae: 0.4758 - department_outputs_accuracy: 0.2700 - difficulty_output_mae: 0.4887 - difficulty_output_accuracy: 0.3420\n",
      "Epoch 4/20\n",
      "47/47 [==============================] - 1s 15ms/step - loss: 512.5507 - priority_outputs_loss: 0.3204 - department_outputs_loss: 306.7737 - difficulty_output_loss: 205.4567 - priority_outputs_mae: 0.4903 - priority_outputs_accuracy: 0.0000e+00 - department_outputs_mae: 0.4961 - department_outputs_accuracy: 0.2507 - difficulty_output_mae: 0.5040 - difficulty_output_accuracy: 0.3413\n",
      "Epoch 5/20\n",
      "47/47 [==============================] - 1s 15ms/step - loss: 523.8248 - priority_outputs_loss: 0.3204 - department_outputs_loss: 310.7599 - difficulty_output_loss: 212.7446 - priority_outputs_mae: 0.4903 - priority_outputs_accuracy: 0.0000e+00 - department_outputs_mae: 0.4856 - department_outputs_accuracy: 0.2780 - difficulty_output_mae: 0.5047 - difficulty_output_accuracy: 0.3327\n",
      "Epoch 6/20\n",
      "47/47 [==============================] - 1s 15ms/step - loss: 564.6235 - priority_outputs_loss: 0.3204 - department_outputs_loss: 336.6001 - difficulty_output_loss: 227.7032 - priority_outputs_mae: 0.4903 - priority_outputs_accuracy: 0.0000e+00 - department_outputs_mae: 0.4988 - department_outputs_accuracy: 0.2573 - difficulty_output_mae: 0.4966 - difficulty_output_accuracy: 0.3353\n",
      "Epoch 7/20\n",
      "47/47 [==============================] - 1s 15ms/step - loss: 594.4861 - priority_outputs_loss: 0.3204 - department_outputs_loss: 351.3020 - difficulty_output_loss: 242.8638 - priority_outputs_mae: 0.4903 - priority_outputs_accuracy: 0.0000e+00 - department_outputs_mae: 0.4995 - department_outputs_accuracy: 0.2360 - difficulty_output_mae: 0.5087 - difficulty_output_accuracy: 0.3360\n",
      "Epoch 8/20\n",
      "47/47 [==============================] - 1s 15ms/step - loss: 594.3164 - priority_outputs_loss: 0.3204 - department_outputs_loss: 349.9268 - difficulty_output_loss: 244.0694 - priority_outputs_mae: 0.4903 - priority_outputs_accuracy: 0.0000e+00 - department_outputs_mae: 0.4871 - department_outputs_accuracy: 0.2687 - difficulty_output_mae: 0.5034 - difficulty_output_accuracy: 0.3320\n",
      "Epoch 9/20\n",
      "47/47 [==============================] - 1s 15ms/step - loss: 612.6379 - priority_outputs_loss: 0.3204 - department_outputs_loss: 365.9890 - difficulty_output_loss: 246.3285 - priority_outputs_mae: 0.4903 - priority_outputs_accuracy: 0.0000e+00 - department_outputs_mae: 0.4856 - department_outputs_accuracy: 0.2640 - difficulty_output_mae: 0.4977 - difficulty_output_accuracy: 0.3373\n",
      "Epoch 10/20\n",
      "47/47 [==============================] - 1s 15ms/step - loss: 670.6113 - priority_outputs_loss: 0.3204 - department_outputs_loss: 398.0257 - difficulty_output_loss: 272.2651 - priority_outputs_mae: 0.4903 - priority_outputs_accuracy: 0.0000e+00 - department_outputs_mae: 0.4953 - department_outputs_accuracy: 0.2487 - difficulty_output_mae: 0.5107 - difficulty_output_accuracy: 0.3333\n",
      "Epoch 11/20\n",
      "47/47 [==============================] - 1s 15ms/step - loss: 698.8013 - priority_outputs_loss: 0.3204 - department_outputs_loss: 421.6541 - difficulty_output_loss: 276.8268 - priority_outputs_mae: 0.4903 - priority_outputs_accuracy: 0.0000e+00 - department_outputs_mae: 0.5056 - department_outputs_accuracy: 0.2260 - difficulty_output_mae: 0.5026 - difficulty_output_accuracy: 0.3253\n",
      "Epoch 12/20\n",
      "47/47 [==============================] - 1s 15ms/step - loss: 709.2938 - priority_outputs_loss: 0.3204 - department_outputs_loss: 421.1063 - difficulty_output_loss: 287.8671 - priority_outputs_mae: 0.4903 - priority_outputs_accuracy: 0.0000e+00 - department_outputs_mae: 0.4949 - department_outputs_accuracy: 0.2640 - difficulty_output_mae: 0.5020 - difficulty_output_accuracy: 0.3333\n",
      "Epoch 13/20\n",
      "47/47 [==============================] - 1s 15ms/step - loss: 724.3563 - priority_outputs_loss: 0.3204 - department_outputs_loss: 431.2150 - difficulty_output_loss: 292.8209 - priority_outputs_mae: 0.4903 - priority_outputs_accuracy: 0.0000e+00 - department_outputs_mae: 0.4920 - department_outputs_accuracy: 0.2627 - difficulty_output_mae: 0.4991 - difficulty_output_accuracy: 0.3133\n",
      "Epoch 14/20\n",
      "47/47 [==============================] - 1s 15ms/step - loss: 753.8937 - priority_outputs_loss: 0.3204 - department_outputs_loss: 442.1616 - difficulty_output_loss: 311.4117 - priority_outputs_mae: 0.4903 - priority_outputs_accuracy: 0.0000e+00 - department_outputs_mae: 0.4930 - department_outputs_accuracy: 0.2447 - difficulty_output_mae: 0.5104 - difficulty_output_accuracy: 0.3307\n",
      "Epoch 15/20\n",
      "47/47 [==============================] - 1s 18ms/step - loss: 774.5663 - priority_outputs_loss: 0.3204 - department_outputs_loss: 472.6096 - difficulty_output_loss: 301.6363 - priority_outputs_mae: 0.4903 - priority_outputs_accuracy: 0.0000e+00 - department_outputs_mae: 0.4972 - department_outputs_accuracy: 0.2407 - difficulty_output_mae: 0.4844 - difficulty_output_accuracy: 0.3393\n",
      "Epoch 16/20\n",
      "47/47 [==============================] - 1s 15ms/step - loss: 824.9471 - priority_outputs_loss: 0.3204 - department_outputs_loss: 492.6168 - difficulty_output_loss: 332.0102 - priority_outputs_mae: 0.4903 - priority_outputs_accuracy: 0.0000e+00 - department_outputs_mae: 0.5059 - department_outputs_accuracy: 0.2367 - difficulty_output_mae: 0.5036 - difficulty_output_accuracy: 0.3227\n",
      "Epoch 17/20\n",
      "47/47 [==============================] - 1s 19ms/step - loss: 838.8570 - priority_outputs_loss: 0.3204 - department_outputs_loss: 498.4100 - difficulty_output_loss: 340.1265 - priority_outputs_mae: 0.4903 - priority_outputs_accuracy: 0.0000e+00 - department_outputs_mae: 0.4982 - department_outputs_accuracy: 0.2473 - difficulty_output_mae: 0.5016 - difficulty_output_accuracy: 0.3293\n",
      "Epoch 18/20\n",
      "47/47 [==============================] - 1s 15ms/step - loss: 821.3704 - priority_outputs_loss: 0.3204 - department_outputs_loss: 490.7721 - difficulty_output_loss: 330.2778 - priority_outputs_mae: 0.4903 - priority_outputs_accuracy: 0.0000e+00 - department_outputs_mae: 0.4798 - department_outputs_accuracy: 0.2807 - difficulty_output_mae: 0.4910 - difficulty_output_accuracy: 0.3253\n",
      "Epoch 19/20\n",
      "47/47 [==============================] - 1s 15ms/step - loss: 893.8405 - priority_outputs_loss: 0.3204 - department_outputs_loss: 523.2731 - difficulty_output_loss: 370.2469 - priority_outputs_mae: 0.4903 - priority_outputs_accuracy: 0.0000e+00 - department_outputs_mae: 0.4942 - department_outputs_accuracy: 0.2493 - difficulty_output_mae: 0.5060 - difficulty_output_accuracy: 0.3527\n",
      "Epoch 20/20\n",
      "47/47 [==============================] - 1s 17ms/step - loss: 926.5682 - priority_outputs_loss: 0.3204 - department_outputs_loss: 553.6656 - difficulty_output_loss: 372.5822 - priority_outputs_mae: 0.4903 - priority_outputs_accuracy: 0.0000e+00 - department_outputs_mae: 0.5037 - department_outputs_accuracy: 0.2433 - difficulty_output_mae: 0.5082 - difficulty_output_accuracy: 0.3220\n"
     ]
    }
   ],
   "source": [
    "features_layer_output = model1.layers[4].output\n",
    "difficulty_output = Dense(units=3,activation=\"softmax\",name=\"difficulty_output\")(features_layer_output)\n",
    "\n",
    "new_model = Model(inputs=[title_input,body_input,tags_input],outputs=[priority_outputs,department_outputs,difficulty_output])\n",
    "\n",
    "new_model.compile(optimizer=\"rmsprop\",loss=[\"mean_squared_error\",\"categorical_crossentropy\",\"categorical_crossentropy\"],metrics=[\"mae\",\"accuracy\"])\n",
    "\n",
    "# Random input data created for difficulty\n",
    "difficulty_num = 3\n",
    "difficulty_data = np.random.randint(0,2,size=(num_samples,difficulty_num))\n",
    "\n",
    "history_new = new_model.fit({\"title input\":title_data, \"body input\" : body_data, \"tags input\":tags_data} , {\"priority_outputs\":priority_data, \"department_outputs\":department_data,\"difficulty_output\":difficulty_data},epochs=20)\n",
    "history_new_dict = history_new.history"
   ]
  },
  {
   "cell_type": "code",
   "execution_count": 39,
   "metadata": {},
   "outputs": [
    {
     "data": {
      "text/plain": [
       "dict_keys(['loss', 'priority_outputs_loss', 'department_outputs_loss', 'difficulty_output_loss', 'priority_outputs_mae', 'priority_outputs_accuracy', 'department_outputs_mae', 'department_outputs_accuracy', 'difficulty_output_mae', 'difficulty_output_accuracy'])"
      ]
     },
     "execution_count": 39,
     "metadata": {},
     "output_type": "execute_result"
    }
   ],
   "source": [
    "history_new_dict.keys()"
   ]
  },
  {
   "cell_type": "code",
   "execution_count": null,
   "metadata": {},
   "outputs": [],
   "source": []
  }
 ],
 "metadata": {
  "kernelspec": {
   "display_name": "tensorflowgpu",
   "language": "python",
   "name": "python3"
  },
  "language_info": {
   "codemirror_mode": {
    "name": "ipython",
    "version": 3
   },
   "file_extension": ".py",
   "mimetype": "text/x-python",
   "name": "python",
   "nbconvert_exporter": "python",
   "pygments_lexer": "ipython3",
   "version": "3.10.13"
  }
 },
 "nbformat": 4,
 "nbformat_minor": 2
}
