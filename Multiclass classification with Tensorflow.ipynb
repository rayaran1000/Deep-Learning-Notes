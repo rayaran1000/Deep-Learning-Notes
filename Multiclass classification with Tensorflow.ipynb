{
 "cells": [
  {
   "cell_type": "code",
   "execution_count": 1,
   "metadata": {},
   "outputs": [],
   "source": [
    "import tensorflow as tf\n",
    "import keras\n",
    "import numpy as np"
   ]
  },
  {
   "cell_type": "code",
   "execution_count": 2,
   "metadata": {},
   "outputs": [],
   "source": [
    "from tensorflow.keras.datasets import reuters\n",
    "(train_data,train_labels),(test_data,test_labels) = reuters.load_data(num_words=10000)"
   ]
  },
  {
   "cell_type": "code",
   "execution_count": 3,
   "metadata": {},
   "outputs": [
    {
     "data": {
      "text/plain": [
       "(8982,)"
      ]
     },
     "execution_count": 3,
     "metadata": {},
     "output_type": "execute_result"
    }
   ],
   "source": [
    "train_data.shape"
   ]
  },
  {
   "cell_type": "code",
   "execution_count": 4,
   "metadata": {},
   "outputs": [
    {
     "data": {
      "text/plain": [
       "(2246,)"
      ]
     },
     "execution_count": 4,
     "metadata": {},
     "output_type": "execute_result"
    }
   ],
   "source": [
    "test_data.shape"
   ]
  },
  {
   "cell_type": "code",
   "execution_count": 5,
   "metadata": {},
   "outputs": [],
   "source": [
    "# Convert the sentences into vectors of 0s and 1s keeping the max length as 10000 , so that each sentence could be represented as equal length vectors\n",
    "# Method called -- Multi hot encoding\n",
    "# The below commented code is suitable for manually encoding one sentence\n",
    "# def vectorize_sequences(sequences,max_length=10000):\n",
    "#    vectors = np.zeros(max_length)\n",
    "#    for seq in sequences:\n",
    "#        if vectors[seq] == 0:\n",
    "#            vectors[seq] = 1\n",
    "#        else:\n",
    "#            continue\n",
    "#    return vectors\n",
    "\n",
    "# The below code is suitable for batch encoding sentences into vectors \n",
    "\n",
    "def vectorize_sequences(sequences,max_length=10000):\n",
    "    vectorized_sequences_matrix = np.zeros((len(sequences),max_length)) # Matrix of zeros with row as number of sentences and columns as 10000\n",
    "    for i,sentence in enumerate(sequences):\n",
    "        for tokenized_words in sentence:\n",
    "            vectorized_sequences_matrix[i,tokenized_words] = 1\n",
    "    return vectorized_sequences_matrix"
   ]
  },
  {
   "cell_type": "code",
   "execution_count": 6,
   "metadata": {},
   "outputs": [],
   "source": [
    "#Vectorizing input data \n",
    "X_train = vectorize_sequences(train_data)\n",
    "X_test = vectorize_sequences(test_data)"
   ]
  },
  {
   "cell_type": "code",
   "execution_count": 7,
   "metadata": {},
   "outputs": [],
   "source": [
    "#Vectorizing labels using one hot encoding(Integer encoding also possible, but we don't want to give any priorities to specific classes)\n",
    "\n",
    "def one_hot_encoder(labels,max_length = 46): # Since there are 46 unique labels\n",
    "    encoded_labels = np.zeros((len(labels),max_length))\n",
    "    for i,label in enumerate(labels):\n",
    "        encoded_labels[i,label] = 1\n",
    "    return encoded_labels"
   ]
  },
  {
   "cell_type": "code",
   "execution_count": 8,
   "metadata": {},
   "outputs": [],
   "source": [
    "y_train = one_hot_encoder(train_labels)\n",
    "y_test = one_hot_encoder(test_labels)"
   ]
  },
  {
   "cell_type": "code",
   "execution_count": 9,
   "metadata": {},
   "outputs": [],
   "source": [
    "# Can also be done by the below method\n",
    "# from tensorflow.keras.utils import to_categorical\n",
    "# y_train = to_categorical(train_labels)\n",
    "# y_test = to_categorical(test_labels)"
   ]
  },
  {
   "cell_type": "code",
   "execution_count": 10,
   "metadata": {},
   "outputs": [],
   "source": [
    "# Model building\n",
    "from keras import Sequential\n",
    "from keras import layers\n",
    "from keras.layers import Dense"
   ]
  },
  {
   "cell_type": "code",
   "execution_count": 11,
   "metadata": {},
   "outputs": [],
   "source": [
    "model = Sequential([\n",
    "    Dense(units=64,activation=\"relu\"),\n",
    "    Dense(units=64,activation=\"relu\"),\n",
    "    Dense(units=46,activation=\"softmax\")\n",
    "])"
   ]
  },
  {
   "cell_type": "code",
   "execution_count": 12,
   "metadata": {},
   "outputs": [],
   "source": [
    "model.compile(loss=\"categorical_crossentropy\",optimizer=\"rmsprop\",metrics=[\"accuracy\"])"
   ]
  },
  {
   "cell_type": "code",
   "execution_count": 13,
   "metadata": {},
   "outputs": [],
   "source": [
    "# Validation dataset build\n",
    "X_train_final = X_train[1000:]\n",
    "X_valid = X_train[:1000]\n",
    "y_train_final = y_train[1000:]\n",
    "y_valid = y_train[:1000]"
   ]
  },
  {
   "cell_type": "code",
   "execution_count": 14,
   "metadata": {},
   "outputs": [
    {
     "name": "stdout",
     "output_type": "stream",
     "text": [
      "Epoch 1/20\n",
      "63/63 [==============================] - 1s 11ms/step - loss: 1.8888 - accuracy: 0.6189 - val_loss: 1.2522 - val_accuracy: 0.7070\n",
      "Epoch 2/20\n",
      "63/63 [==============================] - 1s 8ms/step - loss: 1.0091 - accuracy: 0.7737 - val_loss: 1.0206 - val_accuracy: 0.7730\n",
      "Epoch 3/20\n",
      "63/63 [==============================] - 1s 8ms/step - loss: 0.7026 - accuracy: 0.8519 - val_loss: 0.9106 - val_accuracy: 0.8140\n",
      "Epoch 4/20\n",
      "63/63 [==============================] - 1s 8ms/step - loss: 0.5028 - accuracy: 0.8943 - val_loss: 0.8894 - val_accuracy: 0.8140\n",
      "Epoch 5/20\n",
      "63/63 [==============================] - 1s 8ms/step - loss: 0.3672 - accuracy: 0.9194 - val_loss: 0.8751 - val_accuracy: 0.8190\n",
      "Epoch 6/20\n",
      "63/63 [==============================] - 1s 9ms/step - loss: 0.2871 - accuracy: 0.9347 - val_loss: 0.9030 - val_accuracy: 0.8040\n",
      "Epoch 7/20\n",
      "63/63 [==============================] - 1s 8ms/step - loss: 0.2386 - accuracy: 0.9441 - val_loss: 0.8675 - val_accuracy: 0.8220\n",
      "Epoch 8/20\n",
      "63/63 [==============================] - 1s 8ms/step - loss: 0.2035 - accuracy: 0.9483 - val_loss: 0.9253 - val_accuracy: 0.8190\n",
      "Epoch 9/20\n",
      "63/63 [==============================] - 0s 8ms/step - loss: 0.1770 - accuracy: 0.9533 - val_loss: 0.9608 - val_accuracy: 0.8070\n",
      "Epoch 10/20\n",
      "63/63 [==============================] - 0s 8ms/step - loss: 0.1634 - accuracy: 0.9531 - val_loss: 1.0155 - val_accuracy: 0.7950\n",
      "Epoch 11/20\n",
      "63/63 [==============================] - 0s 8ms/step - loss: 0.1518 - accuracy: 0.9553 - val_loss: 0.9745 - val_accuracy: 0.8100\n",
      "Epoch 12/20\n",
      "63/63 [==============================] - 1s 8ms/step - loss: 0.1498 - accuracy: 0.9546 - val_loss: 1.0413 - val_accuracy: 0.7980\n",
      "Epoch 13/20\n",
      "63/63 [==============================] - 0s 8ms/step - loss: 0.1415 - accuracy: 0.9563 - val_loss: 0.9635 - val_accuracy: 0.8090\n",
      "Epoch 14/20\n",
      "63/63 [==============================] - 0s 8ms/step - loss: 0.1375 - accuracy: 0.9563 - val_loss: 0.9900 - val_accuracy: 0.8030\n",
      "Epoch 15/20\n",
      "63/63 [==============================] - 1s 8ms/step - loss: 0.1359 - accuracy: 0.9558 - val_loss: 0.9558 - val_accuracy: 0.8150\n",
      "Epoch 16/20\n",
      "63/63 [==============================] - 1s 8ms/step - loss: 0.1272 - accuracy: 0.9579 - val_loss: 1.0035 - val_accuracy: 0.8160\n",
      "Epoch 17/20\n",
      "63/63 [==============================] - 1s 11ms/step - loss: 0.1269 - accuracy: 0.9563 - val_loss: 1.0125 - val_accuracy: 0.8080\n",
      "Epoch 18/20\n",
      "63/63 [==============================] - 1s 10ms/step - loss: 0.1249 - accuracy: 0.9567 - val_loss: 0.9981 - val_accuracy: 0.8120\n",
      "Epoch 19/20\n",
      "63/63 [==============================] - 1s 10ms/step - loss: 0.1238 - accuracy: 0.9577 - val_loss: 1.0527 - val_accuracy: 0.8060\n",
      "Epoch 20/20\n",
      "63/63 [==============================] - 1s 8ms/step - loss: 0.1197 - accuracy: 0.9548 - val_loss: 1.0736 - val_accuracy: 0.7980\n"
     ]
    },
    {
     "data": {
      "text/plain": [
       "<keras.src.callbacks.History at 0x1f90ad20b50>"
      ]
     },
     "execution_count": 14,
     "metadata": {},
     "output_type": "execute_result"
    }
   ],
   "source": [
    "history = model.fit(X_train_final, y_train_final,epochs=20,batch_size=128,validation_data=(X_valid, y_valid))\n",
    "history"
   ]
  },
  {
   "cell_type": "code",
   "execution_count": 17,
   "metadata": {},
   "outputs": [
    {
     "data": {
      "text/plain": [
       "dict_keys(['loss', 'accuracy', 'val_loss', 'val_accuracy'])"
      ]
     },
     "execution_count": 17,
     "metadata": {},
     "output_type": "execute_result"
    }
   ],
   "source": [
    "history_dict = history.history\n",
    "history_dict.keys()"
   ]
  },
  {
   "cell_type": "code",
   "execution_count": 20,
   "metadata": {},
   "outputs": [
    {
     "data": {
      "image/png": "[encoded data removed]",
      "text/plain": [
       "<Figure size 640x480 with 1 Axes>"
      ]
     },
     "metadata": {},
     "output_type": "display_data"
    }
   ],
   "source": [
    "import matplotlib.pyplot as plt\n",
    "epochs = range(1,len(history_dict[\"loss\"])+1)\n",
    "\n",
    "plt.plot(epochs,history_dict[\"loss\"],\"bo\",label=\"Training Loss\")\n",
    "plt.plot(epochs,history_dict[\"val_loss\"],\"b\",label=\"Validation Loss\")\n",
    "\n",
    "plt.title(\"Training and Validation Loss\")\n",
    "plt.xlabel(\"Number of epochs\")\n",
    "plt.ylabel(\"Training and Validation Loss\")\n",
    "plt.legend()\n",
    "plt.show()\n"
   ]
  },
  {
   "cell_type": "code",
   "execution_count": 21,
   "metadata": {},
   "outputs": [
    {
     "data": {
      "image/png": "[encoded data removed]",
      "text/plain": [
       "<Figure size 640x480 with 1 Axes>"
      ]
     },
     "metadata": {},
     "output_type": "display_data"
    }
   ],
   "source": [
    "epochs = range(1,len(history_dict[\"accuracy\"])+1)\n",
    "\n",
    "plt.plot(epochs,history_dict[\"accuracy\"],\"bo\",label=\"Training Accuracy\")\n",
    "plt.plot(epochs,history_dict[\"val_accuracy\"],\"b\",label=\"Validation Accuracy\")\n",
    "\n",
    "plt.title(\"Training and Validation Accuracy\")\n",
    "plt.xlabel(\"Number of epochs\")\n",
    "plt.ylabel(\"Training and Validation Accuracy\")\n",
    "plt.legend()\n",
    "plt.show()"
   ]
  },
  {
   "cell_type": "code",
   "execution_count": 22,
   "metadata": {},
   "outputs": [],
   "source": [
    "# Model is starting to overfit after 9 epochs, so we set the final epochs to 9\n",
    "model1 = Sequential([\n",
    "    Dense(units=64,activation=\"relu\"),\n",
    "    Dense(units=64,activation=\"relu\"),\n",
    "    Dense(units=46,activation=\"softmax\")\n",
    "])"
   ]
  },
  {
   "cell_type": "code",
   "execution_count": 23,
   "metadata": {},
   "outputs": [],
   "source": [
    "model1.compile(loss=\"categorical_crossentropy\",optimizer=\"rmsprop\",metrics=[\"accuracy\"])"
   ]
  },
  {
   "cell_type": "code",
   "execution_count": 24,
   "metadata": {},
   "outputs": [
    {
     "name": "stdout",
     "output_type": "stream",
     "text": [
      "Epoch 1/9\n",
      "63/63 [==============================] - 1s 11ms/step - loss: 1.8961 - accuracy: 0.6097 - val_loss: 1.2870 - val_accuracy: 0.7080\n",
      "Epoch 2/9\n",
      "63/63 [==============================] - 1s 8ms/step - loss: 1.0172 - accuracy: 0.7767 - val_loss: 1.0250 - val_accuracy: 0.7830\n",
      "Epoch 3/9\n",
      "63/63 [==============================] - 1s 8ms/step - loss: 0.6959 - accuracy: 0.8477 - val_loss: 0.9510 - val_accuracy: 0.8070\n",
      "Epoch 4/9\n",
      "63/63 [==============================] - 1s 8ms/step - loss: 0.4833 - accuracy: 0.8976 - val_loss: 0.8639 - val_accuracy: 0.8170\n",
      "Epoch 5/9\n",
      "63/63 [==============================] - 1s 8ms/step - loss: 0.3516 - accuracy: 0.9261 - val_loss: 0.8941 - val_accuracy: 0.8220\n",
      "Epoch 6/9\n",
      "63/63 [==============================] - 1s 8ms/step - loss: 0.2695 - accuracy: 0.9402 - val_loss: 0.8674 - val_accuracy: 0.8290\n",
      "Epoch 7/9\n",
      "63/63 [==============================] - 1s 8ms/step - loss: 0.2219 - accuracy: 0.9465 - val_loss: 0.8975 - val_accuracy: 0.8210\n",
      "Epoch 8/9\n",
      "63/63 [==============================] - 1s 8ms/step - loss: 0.1933 - accuracy: 0.9509 - val_loss: 0.9168 - val_accuracy: 0.8220\n",
      "Epoch 9/9\n",
      "63/63 [==============================] - 1s 8ms/step - loss: 0.1771 - accuracy: 0.9516 - val_loss: 0.9226 - val_accuracy: 0.8140\n"
     ]
    },
    {
     "data": {
      "text/plain": [
       "<keras.src.callbacks.History at 0x1f9084b3ad0>"
      ]
     },
     "execution_count": 24,
     "metadata": {},
     "output_type": "execute_result"
    }
   ],
   "source": [
    "model1.fit(X_train_final,y_train_final,epochs=9,batch_size=128,validation_data=(X_valid,y_valid))"
   ]
  },
  {
   "cell_type": "code",
   "execution_count": 25,
   "metadata": {},
   "outputs": [
    {
     "name": "stdout",
     "output_type": "stream",
     "text": [
      "71/71 [==============================] - 0s 2ms/step - loss: 1.0490 - accuracy: 0.7863\n"
     ]
    },
    {
     "data": {
      "text/plain": [
       "[1.0489929914474487, 0.7862867116928101]"
      ]
     },
     "execution_count": 25,
     "metadata": {},
     "output_type": "execute_result"
    }
   ],
   "source": [
    "model1.evaluate(X_test,y_test)"
   ]
  },
  {
   "cell_type": "code",
   "execution_count": 34,
   "metadata": {},
   "outputs": [
    {
     "name": "stdout",
     "output_type": "stream",
     "text": [
      "1/1 [==============================] - 0s 30ms/step\n"
     ]
    }
   ],
   "source": [
    "# Predictions on new data\n",
    "prediction = model1.predict(X_test[[10]]) # Single value prediction needs to be passed as a tensor(because our input is a 2D tensor)"
   ]
  },
  {
   "cell_type": "code",
   "execution_count": 35,
   "metadata": {},
   "outputs": [
    {
     "data": {
      "text/plain": [
       "1"
      ]
     },
     "execution_count": 35,
     "metadata": {},
     "output_type": "execute_result"
    }
   ],
   "source": [
    "np.argmax(prediction)"
   ]
  },
  {
   "cell_type": "code",
   "execution_count": 36,
   "metadata": {},
   "outputs": [],
   "source": [
    "# Hence label 1 is the output label prediction for test case record number 10"
   ]
  },
  {
   "cell_type": "code",
   "execution_count": 38,
   "metadata": {},
   "outputs": [],
   "source": [
    "# We could have used integer label encoding like below, but the loss function in that case should be sparse_categorical_crossentropy\n",
    "#y_train = np.array(train_labels)\n",
    "#y_test = np.array(test_labels)\n",
    "\n",
    "#model.compile(loss=\"sparse_categorical_crossentropy\",optimizer=\"rmsprop\",metrics=[\"accuracy\"])"
   ]
  },
  {
   "cell_type": "code",
   "execution_count": null,
   "metadata": {},
   "outputs": [],
   "source": []
  }
 ],
 "metadata": {
  "kernelspec": {
   "display_name": "base",
   "language": "python",
   "name": "python3"
  },
  "language_info": {
   "codemirror_mode": {
    "name": "ipython",
    "version": 3
   },
   "file_extension": ".py",
   "mimetype": "text/x-python",
   "name": "python",
   "nbconvert_exporter": "python",
   "pygments_lexer": "ipython3",
   "version": "3.11.5"
  }
 },
 "nbformat": 4,
 "nbformat_minor": 2
}
