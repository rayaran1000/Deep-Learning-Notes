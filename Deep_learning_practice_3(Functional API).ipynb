{
 "cells": [
  {
   "cell_type": "code",
   "execution_count": 3,
   "metadata": {},
   "outputs": [],
   "source": [
    "import tensorflow as tf\n",
    "import keras\n",
    "from keras.layers import Input\n",
    "from keras.layers import Dense\n",
    "from keras.layers import concatenate\n",
    "from keras.models import Model"
   ]
  },
  {
   "cell_type": "code",
   "execution_count": 4,
   "metadata": {},
   "outputs": [
    {
     "name": "stdout",
     "output_type": "stream",
     "text": [
      "TensorFlow version: 2.10.0\n",
      "GPU available: [PhysicalDevice(name='/physical_device:GPU:0', device_type='GPU')]\n"
     ]
    }
   ],
   "source": [
    "# To check if GPU is available for tensorflow or not\n",
    "print(\"TensorFlow version:\", tf.__version__)\n",
    "print(\"GPU available:\", tf.config.list_physical_devices('GPU'))"
   ]
  },
  {
   "cell_type": "code",
   "execution_count": 4,
   "metadata": {},
   "outputs": [],
   "source": [
    "boston_dataset = keras.datasets.boston_housing\n",
    "(X_train,y_train),(X_test,y_test) = boston_dataset.load_data()"
   ]
  },
  {
   "cell_type": "code",
   "execution_count": 5,
   "metadata": {},
   "outputs": [],
   "source": [
    "#Creating a functional API model with 1 input"
   ]
  },
  {
   "cell_type": "code",
   "execution_count": 6,
   "metadata": {},
   "outputs": [
    {
     "name": "stdout",
     "output_type": "stream",
     "text": [
      "X_train : 13\n",
      "y_train : (404,)\n",
      "X_test: (102, 13)\n",
      "y_test (102,)\n"
     ]
    }
   ],
   "source": [
    "print(\"X_train :\",X_train.shape[1])\n",
    "print(\"y_train :\",y_train.shape)\n",
    "print(\"X_test:\",X_test.shape)\n",
    "print(\"y_test\",y_test.shape)"
   ]
  },
  {
   "cell_type": "code",
   "execution_count": 7,
   "metadata": {},
   "outputs": [],
   "source": [
    "input = Input(shape=X_train.shape[1:]) # Here we can't specify an input layer , but Input helps in specifiying the input tensor which is \n",
    "# the input for hidden layer 1 (a layer cannot be an input for the neext layer)\n",
    "hidden1 = Dense(30,activation=\"relu\")(input)\n",
    "hidden2 = Dense(30,activation=\"relu\")(hidden1)\n",
    "concat = concatenate([input,hidden2])\n",
    "output = Dense(1)(concat)\n",
    "model1 = Model(inputs=input,outputs=output)"
   ]
  },
  {
   "cell_type": "code",
   "execution_count": 8,
   "metadata": {},
   "outputs": [
    {
     "name": "stdout",
     "output_type": "stream",
     "text": [
      "Model: \"model\"\n",
      "__________________________________________________________________________________________________\n",
      " Layer (type)                   Output Shape         Param #     Connected to                     \n",
      "==================================================================================================\n",
      " input_1 (InputLayer)           [(None, 13)]         0           []                               \n",
      "                                                                                                  \n",
      " dense (Dense)                  (None, 30)           420         ['input_1[0][0]']                \n",
      "                                                                                                  \n",
      " dense_1 (Dense)                (None, 30)           930         ['dense[0][0]']                  \n",
      "                                                                                                  \n",
      " concatenate (Concatenate)      (None, 43)           0           ['input_1[0][0]',                \n",
      "                                                                  'dense_1[0][0]']                \n",
      "                                                                                                  \n",
      " dense_2 (Dense)                (None, 1)            44          ['concatenate[0][0]']            \n",
      "                                                                                                  \n",
      "==================================================================================================\n",
      "Total params: 1,394\n",
      "Trainable params: 1,394\n",
      "Non-trainable params: 0\n",
      "__________________________________________________________________________________________________\n"
     ]
    }
   ],
   "source": [
    "model1.summary()"
   ]
  },
  {
   "cell_type": "code",
   "execution_count": 9,
   "metadata": {},
   "outputs": [],
   "source": [
    "model1.compile(loss=\"mean_squared_error\",optimizer=\"sgd\",metrics=['mse'])"
   ]
  },
  {
   "cell_type": "code",
   "execution_count": 10,
   "metadata": {},
   "outputs": [
    {
     "name": "stdout",
     "output_type": "stream",
     "text": [
      "Epoch 1/30\n",
      "11/11 [==============================] - 1s 17ms/step - loss: nan - mse: nan - val_loss: nan - val_mse: nan\n",
      "Epoch 2/30\n",
      "11/11 [==============================] - 0s 5ms/step - loss: nan - mse: nan - val_loss: nan - val_mse: nan\n",
      "Epoch 3/30\n",
      "11/11 [==============================] - 0s 5ms/step - loss: nan - mse: nan - val_loss: nan - val_mse: nan\n",
      "Epoch 4/30\n",
      "11/11 [==============================] - 0s 5ms/step - loss: nan - mse: nan - val_loss: nan - val_mse: nan\n",
      "Epoch 5/30\n",
      "11/11 [==============================] - 0s 5ms/step - loss: nan - mse: nan - val_loss: nan - val_mse: nan\n",
      "Epoch 6/30\n",
      "11/11 [==============================] - 0s 5ms/step - loss: nan - mse: nan - val_loss: nan - val_mse: nan\n",
      "Epoch 7/30\n",
      "11/11 [==============================] - 0s 5ms/step - loss: nan - mse: nan - val_loss: nan - val_mse: nan\n",
      "Epoch 8/30\n",
      "11/11 [==============================] - 0s 5ms/step - loss: nan - mse: nan - val_loss: nan - val_mse: nan\n",
      "Epoch 9/30\n",
      "11/11 [==============================] - 0s 5ms/step - loss: nan - mse: nan - val_loss: nan - val_mse: nan\n",
      "Epoch 10/30\n",
      "11/11 [==============================] - 0s 5ms/step - loss: nan - mse: nan - val_loss: nan - val_mse: nan\n",
      "Epoch 11/30\n",
      "11/11 [==============================] - 0s 5ms/step - loss: nan - mse: nan - val_loss: nan - val_mse: nan\n",
      "Epoch 12/30\n",
      "11/11 [==============================] - 0s 5ms/step - loss: nan - mse: nan - val_loss: nan - val_mse: nan\n",
      "Epoch 13/30\n",
      "11/11 [==============================] - 0s 5ms/step - loss: nan - mse: nan - val_loss: nan - val_mse: nan\n",
      "Epoch 14/30\n",
      "11/11 [==============================] - 0s 5ms/step - loss: nan - mse: nan - val_loss: nan - val_mse: nan\n",
      "Epoch 15/30\n",
      "11/11 [==============================] - 0s 5ms/step - loss: nan - mse: nan - val_loss: nan - val_mse: nan\n",
      "Epoch 16/30\n",
      "11/11 [==============================] - 0s 5ms/step - loss: nan - mse: nan - val_loss: nan - val_mse: nan\n",
      "Epoch 17/30\n",
      "11/11 [==============================] - 0s 5ms/step - loss: nan - mse: nan - val_loss: nan - val_mse: nan\n",
      "Epoch 18/30\n",
      "11/11 [==============================] - 0s 5ms/step - loss: nan - mse: nan - val_loss: nan - val_mse: nan\n",
      "Epoch 19/30\n",
      "11/11 [==============================] - 0s 5ms/step - loss: nan - mse: nan - val_loss: nan - val_mse: nan\n",
      "Epoch 20/30\n",
      "11/11 [==============================] - 0s 6ms/step - loss: nan - mse: nan - val_loss: nan - val_mse: nan\n",
      "Epoch 21/30\n",
      "11/11 [==============================] - 0s 5ms/step - loss: nan - mse: nan - val_loss: nan - val_mse: nan\n",
      "Epoch 22/30\n",
      "11/11 [==============================] - 0s 6ms/step - loss: nan - mse: nan - val_loss: nan - val_mse: nan\n",
      "Epoch 23/30\n",
      "11/11 [==============================] - 0s 5ms/step - loss: nan - mse: nan - val_loss: nan - val_mse: nan\n",
      "Epoch 24/30\n",
      "11/11 [==============================] - 0s 5ms/step - loss: nan - mse: nan - val_loss: nan - val_mse: nan\n",
      "Epoch 25/30\n",
      "11/11 [==============================] - 0s 5ms/step - loss: nan - mse: nan - val_loss: nan - val_mse: nan\n",
      "Epoch 26/30\n",
      "11/11 [==============================] - 0s 6ms/step - loss: nan - mse: nan - val_loss: nan - val_mse: nan\n",
      "Epoch 27/30\n",
      "11/11 [==============================] - 0s 5ms/step - loss: nan - mse: nan - val_loss: nan - val_mse: nan\n",
      "Epoch 28/30\n",
      "11/11 [==============================] - 0s 5ms/step - loss: nan - mse: nan - val_loss: nan - val_mse: nan\n",
      "Epoch 29/30\n",
      "11/11 [==============================] - 0s 5ms/step - loss: nan - mse: nan - val_loss: nan - val_mse: nan\n",
      "Epoch 30/30\n",
      "11/11 [==============================] - 0s 4ms/step - loss: nan - mse: nan - val_loss: nan - val_mse: nan\n"
     ]
    },
    {
     "data": {
      "text/plain": [
       "<keras.callbacks.History at 0x1934fa42190>"
      ]
     },
     "execution_count": 10,
     "metadata": {},
     "output_type": "execute_result"
    }
   ],
   "source": [
    "history = model1.fit(X_train,y_train,validation_split=0.2,epochs=30)\n",
    "history"
   ]
  },
  {
   "cell_type": "code",
   "execution_count": 11,
   "metadata": {},
   "outputs": [
    {
     "data": {
      "text/plain": [
       "(404, 13)"
      ]
     },
     "execution_count": 11,
     "metadata": {},
     "output_type": "execute_result"
    }
   ],
   "source": [
    "X_train.shape"
   ]
  },
  {
   "cell_type": "code",
   "execution_count": 12,
   "metadata": {},
   "outputs": [
    {
     "data": {
      "text/plain": [
       "5"
      ]
     },
     "execution_count": 12,
     "metadata": {},
     "output_type": "execute_result"
    }
   ],
   "source": [
    "X_train[:,1:6].shape[1]"
   ]
  },
  {
   "cell_type": "code",
   "execution_count": 13,
   "metadata": {},
   "outputs": [],
   "source": [
    "# Creating a model with multiple inputs and multiple outputs\n",
    "# We are planning to predict the last column of the independent features and target column\n",
    "\n",
    "inputA = Input(shape=6) # First 5 columns in input A\n",
    "inputB = Input(shape=5) # Remaining columns in input B(Not the last column)\n",
    "hidden1 = Dense(30, activation=\"relu\")(inputB)\n",
    "hidden2 = Dense(30,activation=\"relu\")(hidden1)\n",
    "concat = concatenate([inputA,hidden2])\n",
    "output = Dense(1)(concat)\n",
    "aux_output = Dense(1)(hidden2)\n",
    "model2 = Model(inputs=[inputA,inputB], outputs=[output,aux_output])"
   ]
  },
  {
   "cell_type": "code",
   "execution_count": 14,
   "metadata": {},
   "outputs": [
    {
     "name": "stdout",
     "output_type": "stream",
     "text": [
      "Model: \"model_1\"\n",
      "__________________________________________________________________________________________________\n",
      " Layer (type)                   Output Shape         Param #     Connected to                     \n",
      "==================================================================================================\n",
      " input_3 (InputLayer)           [(None, 5)]          0           []                               \n",
      "                                                                                                  \n",
      " dense_3 (Dense)                (None, 30)           180         ['input_3[0][0]']                \n",
      "                                                                                                  \n",
      " input_2 (InputLayer)           [(None, 6)]          0           []                               \n",
      "                                                                                                  \n",
      " dense_4 (Dense)                (None, 30)           930         ['dense_3[0][0]']                \n",
      "                                                                                                  \n",
      " concatenate_1 (Concatenate)    (None, 36)           0           ['input_2[0][0]',                \n",
      "                                                                  'dense_4[0][0]']                \n",
      "                                                                                                  \n",
      " dense_5 (Dense)                (None, 1)            37          ['concatenate_1[0][0]']          \n",
      "                                                                                                  \n",
      " dense_6 (Dense)                (None, 1)            31          ['dense_4[0][0]']                \n",
      "                                                                                                  \n",
      "==================================================================================================\n",
      "Total params: 1,178\n",
      "Trainable params: 1,178\n",
      "Non-trainable params: 0\n",
      "__________________________________________________________________________________________________\n"
     ]
    }
   ],
   "source": [
    "model2.summary()"
   ]
  },
  {
   "cell_type": "code",
   "execution_count": 15,
   "metadata": {},
   "outputs": [],
   "source": [
    "model2.compile(loss=\"mean_squared_error\",optimizer=\"sgd\",metrics=['accuracy'])"
   ]
  },
  {
   "cell_type": "code",
   "execution_count": 16,
   "metadata": {},
   "outputs": [
    {
     "name": "stdout",
     "output_type": "stream",
     "text": [
      "Epoch 1/20\n",
      "11/11 [==============================] - 1s 22ms/step - loss: nan - dense_5_loss: nan - dense_6_loss: nan - dense_5_accuracy: 0.0000e+00 - dense_6_accuracy: 0.0000e+00 - val_loss: nan - val_dense_5_loss: nan - val_dense_6_loss: nan - val_dense_5_accuracy: 0.0000e+00 - val_dense_6_accuracy: 0.0000e+00\n",
      "Epoch 2/20\n",
      "11/11 [==============================] - 0s 8ms/step - loss: nan - dense_5_loss: nan - dense_6_loss: nan - dense_5_accuracy: 0.0000e+00 - dense_6_accuracy: 0.0000e+00 - val_loss: nan - val_dense_5_loss: nan - val_dense_6_loss: nan - val_dense_5_accuracy: 0.0000e+00 - val_dense_6_accuracy: 0.0000e+00\n",
      "Epoch 3/20\n",
      "11/11 [==============================] - 0s 8ms/step - loss: nan - dense_5_loss: nan - dense_6_loss: nan - dense_5_accuracy: 0.0000e+00 - dense_6_accuracy: 0.0000e+00 - val_loss: nan - val_dense_5_loss: nan - val_dense_6_loss: nan - val_dense_5_accuracy: 0.0000e+00 - val_dense_6_accuracy: 0.0000e+00\n",
      "Epoch 4/20\n",
      "11/11 [==============================] - 0s 8ms/step - loss: nan - dense_5_loss: nan - dense_6_loss: nan - dense_5_accuracy: 0.0000e+00 - dense_6_accuracy: 0.0000e+00 - val_loss: nan - val_dense_5_loss: nan - val_dense_6_loss: nan - val_dense_5_accuracy: 0.0000e+00 - val_dense_6_accuracy: 0.0000e+00\n",
      "Epoch 5/20\n",
      "11/11 [==============================] - 0s 8ms/step - loss: nan - dense_5_loss: nan - dense_6_loss: nan - dense_5_accuracy: 0.0000e+00 - dense_6_accuracy: 0.0000e+00 - val_loss: nan - val_dense_5_loss: nan - val_dense_6_loss: nan - val_dense_5_accuracy: 0.0000e+00 - val_dense_6_accuracy: 0.0000e+00\n",
      "Epoch 6/20\n",
      "11/11 [==============================] - 0s 8ms/step - loss: nan - dense_5_loss: nan - dense_6_loss: nan - dense_5_accuracy: 0.0000e+00 - dense_6_accuracy: 0.0000e+00 - val_loss: nan - val_dense_5_loss: nan - val_dense_6_loss: nan - val_dense_5_accuracy: 0.0000e+00 - val_dense_6_accuracy: 0.0000e+00\n",
      "Epoch 7/20\n",
      "11/11 [==============================] - 0s 8ms/step - loss: nan - dense_5_loss: nan - dense_6_loss: nan - dense_5_accuracy: 0.0000e+00 - dense_6_accuracy: 0.0000e+00 - val_loss: nan - val_dense_5_loss: nan - val_dense_6_loss: nan - val_dense_5_accuracy: 0.0000e+00 - val_dense_6_accuracy: 0.0000e+00\n",
      "Epoch 8/20\n",
      "11/11 [==============================] - 0s 8ms/step - loss: nan - dense_5_loss: nan - dense_6_loss: nan - dense_5_accuracy: 0.0000e+00 - dense_6_accuracy: 0.0000e+00 - val_loss: nan - val_dense_5_loss: nan - val_dense_6_loss: nan - val_dense_5_accuracy: 0.0000e+00 - val_dense_6_accuracy: 0.0000e+00\n",
      "Epoch 9/20\n",
      "11/11 [==============================] - 0s 8ms/step - loss: nan - dense_5_loss: nan - dense_6_loss: nan - dense_5_accuracy: 0.0000e+00 - dense_6_accuracy: 0.0000e+00 - val_loss: nan - val_dense_5_loss: nan - val_dense_6_loss: nan - val_dense_5_accuracy: 0.0000e+00 - val_dense_6_accuracy: 0.0000e+00\n",
      "Epoch 10/20\n",
      "11/11 [==============================] - 0s 8ms/step - loss: nan - dense_5_loss: nan - dense_6_loss: nan - dense_5_accuracy: 0.0000e+00 - dense_6_accuracy: 0.0000e+00 - val_loss: nan - val_dense_5_loss: nan - val_dense_6_loss: nan - val_dense_5_accuracy: 0.0000e+00 - val_dense_6_accuracy: 0.0000e+00\n",
      "Epoch 11/20\n",
      "11/11 [==============================] - 0s 8ms/step - loss: nan - dense_5_loss: nan - dense_6_loss: nan - dense_5_accuracy: 0.0000e+00 - dense_6_accuracy: 0.0000e+00 - val_loss: nan - val_dense_5_loss: nan - val_dense_6_loss: nan - val_dense_5_accuracy: 0.0000e+00 - val_dense_6_accuracy: 0.0000e+00\n",
      "Epoch 12/20\n",
      "11/11 [==============================] - 0s 8ms/step - loss: nan - dense_5_loss: nan - dense_6_loss: nan - dense_5_accuracy: 0.0000e+00 - dense_6_accuracy: 0.0000e+00 - val_loss: nan - val_dense_5_loss: nan - val_dense_6_loss: nan - val_dense_5_accuracy: 0.0000e+00 - val_dense_6_accuracy: 0.0000e+00\n",
      "Epoch 13/20\n",
      "11/11 [==============================] - 0s 7ms/step - loss: nan - dense_5_loss: nan - dense_6_loss: nan - dense_5_accuracy: 0.0000e+00 - dense_6_accuracy: 0.0000e+00 - val_loss: nan - val_dense_5_loss: nan - val_dense_6_loss: nan - val_dense_5_accuracy: 0.0000e+00 - val_dense_6_accuracy: 0.0000e+00\n",
      "Epoch 14/20\n",
      "11/11 [==============================] - 0s 7ms/step - loss: nan - dense_5_loss: nan - dense_6_loss: nan - dense_5_accuracy: 0.0000e+00 - dense_6_accuracy: 0.0000e+00 - val_loss: nan - val_dense_5_loss: nan - val_dense_6_loss: nan - val_dense_5_accuracy: 0.0000e+00 - val_dense_6_accuracy: 0.0000e+00\n",
      "Epoch 15/20\n",
      "11/11 [==============================] - 0s 8ms/step - loss: nan - dense_5_loss: nan - dense_6_loss: nan - dense_5_accuracy: 0.0000e+00 - dense_6_accuracy: 0.0000e+00 - val_loss: nan - val_dense_5_loss: nan - val_dense_6_loss: nan - val_dense_5_accuracy: 0.0000e+00 - val_dense_6_accuracy: 0.0000e+00\n",
      "Epoch 16/20\n",
      "11/11 [==============================] - 0s 7ms/step - loss: nan - dense_5_loss: nan - dense_6_loss: nan - dense_5_accuracy: 0.0000e+00 - dense_6_accuracy: 0.0000e+00 - val_loss: nan - val_dense_5_loss: nan - val_dense_6_loss: nan - val_dense_5_accuracy: 0.0000e+00 - val_dense_6_accuracy: 0.0000e+00\n",
      "Epoch 17/20\n",
      "11/11 [==============================] - 0s 8ms/step - loss: nan - dense_5_loss: nan - dense_6_loss: nan - dense_5_accuracy: 0.0000e+00 - dense_6_accuracy: 0.0000e+00 - val_loss: nan - val_dense_5_loss: nan - val_dense_6_loss: nan - val_dense_5_accuracy: 0.0000e+00 - val_dense_6_accuracy: 0.0000e+00\n",
      "Epoch 18/20\n",
      "11/11 [==============================] - 0s 8ms/step - loss: nan - dense_5_loss: nan - dense_6_loss: nan - dense_5_accuracy: 0.0000e+00 - dense_6_accuracy: 0.0000e+00 - val_loss: nan - val_dense_5_loss: nan - val_dense_6_loss: nan - val_dense_5_accuracy: 0.0000e+00 - val_dense_6_accuracy: 0.0000e+00\n",
      "Epoch 19/20\n",
      "11/11 [==============================] - 0s 8ms/step - loss: nan - dense_5_loss: nan - dense_6_loss: nan - dense_5_accuracy: 0.0000e+00 - dense_6_accuracy: 0.0000e+00 - val_loss: nan - val_dense_5_loss: nan - val_dense_6_loss: nan - val_dense_5_accuracy: 0.0000e+00 - val_dense_6_accuracy: 0.0000e+00\n",
      "Epoch 20/20\n",
      "11/11 [==============================] - 0s 8ms/step - loss: nan - dense_5_loss: nan - dense_6_loss: nan - dense_5_accuracy: 0.0000e+00 - dense_6_accuracy: 0.0000e+00 - val_loss: nan - val_dense_5_loss: nan - val_dense_6_loss: nan - val_dense_5_accuracy: 0.0000e+00 - val_dense_6_accuracy: 0.0000e+00\n"
     ]
    },
    {
     "data": {
      "text/plain": [
       "<keras.callbacks.History at 0x19351137d00>"
      ]
     },
     "execution_count": 16,
     "metadata": {},
     "output_type": "execute_result"
    }
   ],
   "source": [
    "model2.fit((X_train[:,:6],X_train[:,6:11]),(X_train[:,12],y_train),epochs=20,validation_split=0.2)"
   ]
  }
 ],
 "metadata": {
  "kernelspec": {
   "display_name": "Python 3",
   "language": "python",
   "name": "python3"
  },
  "language_info": {
   "codemirror_mode": {
    "name": "ipython",
    "version": 3
   },
   "file_extension": ".py",
   "mimetype": "text/x-python",
   "name": "python",
   "nbconvert_exporter": "python",
   "pygments_lexer": "ipython3",
   "version": "3.9.18"
  }
 },
 "nbformat": 4,
 "nbformat_minor": 2
}
