{
 "cells": [
  {
   "cell_type": "code",
   "execution_count": 2,
   "metadata": {},
   "outputs": [],
   "source": [
    "import tensorflow\n",
    "import keras\n",
    "from keras.models import Model\n",
    "from keras.layers import Dense\n",
    "from keras.layers import Input\n",
    "from keras.layers import concatenate"
   ]
  },
  {
   "cell_type": "code",
   "execution_count": 19,
   "metadata": {},
   "outputs": [],
   "source": [
    "class Deep_Model1(Model): \n",
    "    def __init__(self):\n",
    "        super().__init__()\n",
    "        self.hidden_1 = Dense(30,activation=\"relu\")\n",
    "        self.hidden_2 = Dense(30,activation=\"relu\")\n",
    "        self.main_output = Dense(1,activation=\"sigmoid\") # Can't set self.output : gives error that output variable already has been defined\n",
    "\n",
    "    def call(self,inputs):\n",
    "        input_A,input_B = inputs\n",
    "        hidden1= self.hidden_1(input_B)\n",
    "        hidden2 = self.hidden_2(hidden1)\n",
    "        concat = concatenate(input_A,hidden2)\n",
    "        main_output = self.output(concat)\n",
    "        return main_output"
   ]
  },
  {
   "cell_type": "code",
   "execution_count": 20,
   "metadata": {},
   "outputs": [],
   "source": [
    "model = Deep_Model1()"
   ]
  },
  {
   "cell_type": "code",
   "execution_count": null,
   "metadata": {},
   "outputs": [],
   "source": [
    "model.save(\"my_model.h5\") # Only works for sequential and functional models, not subclass models like Deep_Model1"
   ]
  },
  {
   "cell_type": "code",
   "execution_count": null,
   "metadata": {},
   "outputs": [],
   "source": [
    "Model2 = keras.models.load_model(\"model name\") # Loading an existing saved model"
   ]
  }
 ],
 "metadata": {
  "kernelspec": {
   "display_name": "venv",
   "language": "python",
   "name": "python3"
  },
  "language_info": {
   "codemirror_mode": {
    "name": "ipython",
    "version": 3
   },
   "file_extension": ".py",
   "mimetype": "text/x-python",
   "name": "python",
   "nbconvert_exporter": "python",
   "pygments_lexer": "ipython3",
   "version": "3.9.18"
  }
 },
 "nbformat": 4,
 "nbformat_minor": 2
}
