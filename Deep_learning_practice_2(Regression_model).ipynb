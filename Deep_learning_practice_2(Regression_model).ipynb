{
  "cells": [
    {
      "cell_type": "code",
      "execution_count": 1,
      "metadata": {
        "id": "NG_1kgrhSkq0"
      },
      "outputs": [],
      "source": [
        "#Importing libraries\n",
        "import tensorflow as tf\n",
        "from tensorflow import keras\n",
        "from tensorflow.keras.models import Sequential\n",
        "from tensorflow.keras.layers import Dense\n",
        "from tensorflow.keras.layers import Flatten\n",
        "from tensorflow.keras.layers import InputLayer"
      ]
    },
    {
      "cell_type": "code",
      "execution_count": 4,
      "metadata": {
        "colab": {
          "base_uri": "https://localhost:8080/"
        },
        "id": "4rI0pqRGTbtu",
        "outputId": "e9188630-fcc9-40a4-cd1e-5874b526efe9"
      },
      "outputs": [
        {
          "name": "stdout",
          "output_type": "stream",
          "text": [
            "TensorFlow version: 2.15.0\n",
            "GPU available: [PhysicalDevice(name='/physical_device:GPU:0', device_type='GPU')]\n"
          ]
        }
      ],
      "source": [
        "# To check if GPU is available for tensorflow or not\n",
        "print(\"TensorFlow version:\", tf.__version__)\n",
        "print(\"GPU available:\", tf.config.list_physical_devices('GPU'))"
      ]
    },
    {
      "cell_type": "code",
      "execution_count": 5,
      "metadata": {
        "id": "RoM-49_2bcav"
      },
      "outputs": [],
      "source": [
        "from sklearn.datasets import fetch_california_housing\n",
        "from sklearn.model_selection import train_test_split\n",
        "from sklearn.preprocessing import StandardScaler"
      ]
    },
    {
      "cell_type": "code",
      "execution_count": 7,
      "metadata": {
        "id": "2aAwwFjbb1Dr"
      },
      "outputs": [],
      "source": [
        "housing_data = fetch_california_housing()\n",
        "X_train,X_test,y_train,y_test = train_test_split(housing_data.data,housing_data.target,test_size=0.2)"
      ]
    },
    {
      "cell_type": "code",
      "execution_count": 10,
      "metadata": {
        "id": "jGyDB0bYcTwi"
      },
      "outputs": [],
      "source": [
        "#Scaling the data\n",
        "scaler = StandardScaler()\n",
        "X_train_scaled = scaler.fit_transform(X_train)\n",
        "X_test_scaled = scaler.transform(X_test)"
      ]
    },
    {
      "cell_type": "code",
      "execution_count": 11,
      "metadata": {
        "id": "5Gzcpthzcpf2"
      },
      "outputs": [],
      "source": [
        "#Not creating the validation dataset, will pass it during model.fit"
      ]
    },
    {
      "cell_type": "code",
      "execution_count": 13,
      "metadata": {
        "colab": {
          "base_uri": "https://localhost:8080/"
        },
        "id": "QQ_TOvcTdOWR",
        "outputId": "474214c9-340a-4a74-a900-35f853e51b1b"
      },
      "outputs": [
        {
          "data": {
            "text/plain": [
              "(8,)"
            ]
          },
          "execution_count": 13,
          "metadata": {},
          "output_type": "execute_result"
        }
      ],
      "source": [
        "X_train.shape[1:] # To get the input size"
      ]
    },
    {
      "cell_type": "code",
      "execution_count": 15,
      "metadata": {
        "id": "BBc0g6yJdAlB"
      },
      "outputs": [],
      "source": [
        "model = Sequential(\n",
        "    [\n",
        "       InputLayer(input_shape=[8]), # We can also mention as InputLayer(input_shape=X_train.shape[1:])\n",
        "       Dense(30,activation=\"relu\"), # Less hidden neurons because the dataset is noisy(Presence of high number of outliers , or high variance, or data imbalance)\n",
        "       Dense(1) # No activation function used in case of regression(If we want only positive values-- include relu)\n",
        "    ]\n",
        ")"
      ]
    },
    {
      "cell_type": "code",
      "execution_count": 17,
      "metadata": {
        "id": "fhTVfR0wem43"
      },
      "outputs": [],
      "source": [
        "model.compile(loss=\"mean_squared_error\",optimizer=\"sgd\",metrics=['mse']) #Model compilation"
      ]
    },
    {
      "cell_type": "code",
      "execution_count": 18,
      "metadata": {
        "colab": {
          "base_uri": "https://localhost:8080/"
        },
        "id": "J3bcb80QfXgU",
        "outputId": "27b14676-b4c7-4c77-851e-7239db812002"
      },
      "outputs": [
        {
          "name": "stdout",
          "output_type": "stream",
          "text": [
            "Epoch 1/30\n",
            "413/413 [==============================] - 4s 3ms/step - loss: 49185737840525312.0000 - mse: 49185737840525312.0000 - val_loss: 346790176.0000 - val_mse: 346790176.0000\n",
            "Epoch 2/30\n",
            "413/413 [==============================] - 1s 3ms/step - loss: 21215506.0000 - mse: 21215506.0000 - val_loss: 20.3107 - val_mse: 20.3107\n",
            "Epoch 3/30\n",
            "413/413 [==============================] - 1s 3ms/step - loss: 2.5297 - mse: 2.5297 - val_loss: 1.2887 - val_mse: 1.2887\n",
            "Epoch 4/30\n",
            "413/413 [==============================] - 1s 3ms/step - loss: 1.3337 - mse: 1.3337 - val_loss: 1.2862 - val_mse: 1.2862\n",
            "Epoch 5/30\n",
            "413/413 [==============================] - 1s 3ms/step - loss: 1.3338 - mse: 1.3338 - val_loss: 1.2915 - val_mse: 1.2915\n",
            "Epoch 6/30\n",
            "413/413 [==============================] - 2s 4ms/step - loss: 1.3340 - mse: 1.3340 - val_loss: 1.2893 - val_mse: 1.2893\n",
            "Epoch 7/30\n",
            "413/413 [==============================] - 1s 3ms/step - loss: 1.3339 - mse: 1.3339 - val_loss: 1.2886 - val_mse: 1.2886\n",
            "Epoch 8/30\n",
            "413/413 [==============================] - 1s 3ms/step - loss: 1.3340 - mse: 1.3340 - val_loss: 1.2912 - val_mse: 1.2912\n",
            "Epoch 9/30\n",
            "413/413 [==============================] - 1s 3ms/step - loss: 1.3339 - mse: 1.3339 - val_loss: 1.2870 - val_mse: 1.2870\n",
            "Epoch 10/30\n",
            "413/413 [==============================] - 1s 3ms/step - loss: 1.3338 - mse: 1.3338 - val_loss: 1.2859 - val_mse: 1.2859\n",
            "Epoch 11/30\n",
            "413/413 [==============================] - 1s 3ms/step - loss: 1.3340 - mse: 1.3340 - val_loss: 1.2873 - val_mse: 1.2873\n",
            "Epoch 12/30\n",
            "413/413 [==============================] - 1s 3ms/step - loss: 1.3337 - mse: 1.3337 - val_loss: 1.2871 - val_mse: 1.2871\n",
            "Epoch 13/30\n",
            "413/413 [==============================] - 1s 3ms/step - loss: 1.3340 - mse: 1.3340 - val_loss: 1.2876 - val_mse: 1.2876\n",
            "Epoch 14/30\n",
            "413/413 [==============================] - 1s 4ms/step - loss: 1.3338 - mse: 1.3338 - val_loss: 1.2901 - val_mse: 1.2901\n",
            "Epoch 15/30\n",
            "413/413 [==============================] - 2s 4ms/step - loss: 1.3332 - mse: 1.3332 - val_loss: 1.2856 - val_mse: 1.2856\n",
            "Epoch 16/30\n",
            "413/413 [==============================] - 1s 3ms/step - loss: 1.3339 - mse: 1.3339 - val_loss: 1.2884 - val_mse: 1.2884\n",
            "Epoch 17/30\n",
            "413/413 [==============================] - 1s 3ms/step - loss: 1.3337 - mse: 1.3337 - val_loss: 1.2904 - val_mse: 1.2904\n",
            "Epoch 18/30\n",
            "413/413 [==============================] - 1s 3ms/step - loss: 1.3340 - mse: 1.3340 - val_loss: 1.2870 - val_mse: 1.2870\n",
            "Epoch 19/30\n",
            "413/413 [==============================] - 1s 3ms/step - loss: 1.3338 - mse: 1.3338 - val_loss: 1.2875 - val_mse: 1.2875\n",
            "Epoch 20/30\n",
            "413/413 [==============================] - 1s 3ms/step - loss: 1.3338 - mse: 1.3338 - val_loss: 1.2860 - val_mse: 1.2860\n",
            "Epoch 21/30\n",
            "413/413 [==============================] - 1s 3ms/step - loss: 1.3339 - mse: 1.3339 - val_loss: 1.2874 - val_mse: 1.2874\n",
            "Epoch 22/30\n",
            "413/413 [==============================] - 1s 3ms/step - loss: 1.3338 - mse: 1.3338 - val_loss: 1.2915 - val_mse: 1.2915\n",
            "Epoch 23/30\n",
            "413/413 [==============================] - 2s 4ms/step - loss: 1.3341 - mse: 1.3341 - val_loss: 1.2865 - val_mse: 1.2865\n",
            "Epoch 24/30\n",
            "413/413 [==============================] - 2s 4ms/step - loss: 1.3339 - mse: 1.3339 - val_loss: 1.2898 - val_mse: 1.2898\n",
            "Epoch 25/30\n",
            "413/413 [==============================] - 1s 3ms/step - loss: 1.3339 - mse: 1.3339 - val_loss: 1.2870 - val_mse: 1.2870\n",
            "Epoch 26/30\n",
            "413/413 [==============================] - 1s 3ms/step - loss: 1.3339 - mse: 1.3339 - val_loss: 1.2882 - val_mse: 1.2882\n",
            "Epoch 27/30\n",
            "413/413 [==============================] - 1s 3ms/step - loss: 1.3339 - mse: 1.3339 - val_loss: 1.2883 - val_mse: 1.2883\n",
            "Epoch 28/30\n",
            "413/413 [==============================] - 1s 3ms/step - loss: 1.3337 - mse: 1.3337 - val_loss: 1.2947 - val_mse: 1.2947\n",
            "Epoch 29/30\n",
            "413/413 [==============================] - 1s 3ms/step - loss: 1.3340 - mse: 1.3340 - val_loss: 1.2875 - val_mse: 1.2875\n",
            "Epoch 30/30\n",
            "413/413 [==============================] - 1s 3ms/step - loss: 1.3340 - mse: 1.3340 - val_loss: 1.2887 - val_mse: 1.2887\n"
          ]
        },
        {
          "data": {
            "text/plain": [
              "<keras.src.callbacks.History at 0x7f03a7e690f0>"
            ]
          },
          "execution_count": 18,
          "metadata": {},
          "output_type": "execute_result"
        }
      ],
      "source": [
        "history = model.fit(X_train,y_train,validation_split=0.2,epochs=30)\n",
        "history"
      ]
    },
    {
      "cell_type": "code",
      "execution_count": 19,
      "metadata": {
        "colab": {
          "base_uri": "https://localhost:8080/"
        },
        "id": "MNURH1U-fsjG",
        "outputId": "2a9d4b63-4706-4704-950f-952fbb86a7d9"
      },
      "outputs": [
        {
          "name": "stdout",
          "output_type": "stream",
          "text": [
            "129/129 [==============================] - 0s 3ms/step - loss: 1.3613 - mse: 1.3613\n"
          ]
        },
        {
          "data": {
            "text/plain": [
              "[1.3613109588623047, 1.3613109588623047]"
            ]
          },
          "execution_count": 19,
          "metadata": {},
          "output_type": "execute_result"
        }
      ],
      "source": [
        "model.evaluate(X_test,y_test) # Evaluation model against test dataset"
      ]
    },
    {
      "cell_type": "code",
      "execution_count": 28,
      "metadata": {
        "colab": {
          "base_uri": "https://localhost:8080/"
        },
        "id": "GFNv7PESgIl8",
        "outputId": "0da56c19-68d8-46ab-f182-d855688278a7"
      },
      "outputs": [
        {
          "name": "stdout",
          "output_type": "stream",
          "text": [
            "1/1 [==============================] - 0s 74ms/step\n"
          ]
        },
        {
          "data": {
            "text/plain": [
              "array([[2.0845811],\n",
              "       [2.0845811],\n",
              "       [2.0845811],\n",
              "       [2.0845811],\n",
              "       [2.0845811]], dtype=float32)"
            ]
          },
          "execution_count": 28,
          "metadata": {},
          "output_type": "execute_result"
        }
      ],
      "source": [
        "#Prediction\n",
        "X_new = X_test[:5]\n",
        "y_pred = model.predict(X_new)\n",
        "y_pred"
      ]
    },
    {
      "cell_type": "code",
      "execution_count": null,
      "metadata": {
        "id": "nR6cWy6ahq9E"
      },
      "outputs": [],
      "source": []
    }
  ],
  "metadata": {
    "accelerator": "GPU",
    "colab": {
      "gpuType": "T4",
      "provenance": []
    },
    "kernelspec": {
      "display_name": "Python 3",
      "name": "python3"
    },
    "language_info": {
      "codemirror_mode": {
        "name": "ipython",
        "version": 3
      },
      "file_extension": ".py",
      "mimetype": "text/x-python",
      "name": "python",
      "nbconvert_exporter": "python",
      "pygments_lexer": "ipython3",
      "version": "3.9.18"
    }
  },
  "nbformat": 4,
  "nbformat_minor": 0
}
