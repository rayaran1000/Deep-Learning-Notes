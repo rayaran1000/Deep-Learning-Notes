{
 "cells": [
  {
   "cell_type": "code",
   "execution_count": 1,
   "metadata": {},
   "outputs": [],
   "source": [
    "import tensorflow as tf\n",
    "import keras\n",
    "import numpy as np"
   ]
  },
  {
   "cell_type": "code",
   "execution_count": 2,
   "metadata": {},
   "outputs": [],
   "source": [
    "from keras.datasets import mnist\n",
    "(train_images,train_labels),(test_images,test_labels) = mnist.load_data()"
   ]
  },
  {
   "cell_type": "code",
   "execution_count": 3,
   "metadata": {},
   "outputs": [],
   "source": [
    "X_train = train_images.reshape(train_images.shape[0],28,28,1) \n",
    "X_train = X_train.astype('float32') / 255.0\n",
    "\n",
    "X_test = test_images.reshape(test_images.shape[0],28,28,1)\n",
    "X_test = X_test.astype('float32') / 255.0"
   ]
  },
  {
   "cell_type": "code",
   "execution_count": 4,
   "metadata": {},
   "outputs": [],
   "source": [
    "from keras.layers import Input,Dense,Conv2D,MaxPool2D,Flatten\n",
    "from keras.models import Model"
   ]
  },
  {
   "cell_type": "code",
   "execution_count": 5,
   "metadata": {},
   "outputs": [],
   "source": [
    "# CNN example(also called covnet)\n",
    "input_layer = Input(shape=(28,28,1))\n",
    "\n",
    "conv_layer1 = Conv2D(kernel_size=(3,3),filters=32,activation=\"relu\")(input_layer)\n",
    "max_pool1 = MaxPool2D(pool_size=3)(conv_layer1)\n",
    "conv_layer2 = Conv2D(kernel_size=(3,3),filters=64,activation=\"relu\")(max_pool1)\n",
    "max_pool2 = MaxPool2D(pool_size=2)(conv_layer2)\n",
    "conv_layer3 = Conv2D(kernel_size=(3,3),filters=128,activation=\"relu\")(max_pool2)\n",
    "flatten_layer = Flatten()(conv_layer3)\n",
    "\n",
    "output_layer = Dense(10,activation=\"softmax\")(flatten_layer)\n",
    "model = Model(inputs=input_layer,outputs=output_layer)"
   ]
  },
  {
   "cell_type": "code",
   "execution_count": 9,
   "metadata": {},
   "outputs": [
    {
     "name": "stdout",
     "output_type": "stream",
     "text": [
      "Model: \"model\"\n",
      "_________________________________________________________________\n",
      " Layer (type)                Output Shape              Param #   \n",
      "=================================================================\n",
      " input_1 (InputLayer)        [(None, 28, 28, 1)]       0         \n",
      "                                                                 \n",
      " conv2d (Conv2D)             (None, 26, 26, 32)        320       \n",
      "                                                                 \n",
      " max_pooling2d (MaxPooling2D  (None, 8, 8, 32)         0         \n",
      " )                                                               \n",
      "                                                                 \n",
      " conv2d_1 (Conv2D)           (None, 6, 6, 64)          18496     \n",
      "                                                                 \n",
      " max_pooling2d_1 (MaxPooling  (None, 3, 3, 64)         0         \n",
      " 2D)                                                             \n",
      "                                                                 \n",
      " conv2d_2 (Conv2D)           (None, 1, 1, 128)         73856     \n",
      "                                                                 \n",
      " flatten (Flatten)           (None, 128)               0         \n",
      "                                                                 \n",
      " dense (Dense)               (None, 10)                1290      \n",
      "                                                                 \n",
      "=================================================================\n",
      "Total params: 93,962\n",
      "Trainable params: 93,962\n",
      "Non-trainable params: 0\n",
      "_________________________________________________________________\n"
     ]
    }
   ],
   "source": [
    "model.summary()\n",
    "\n",
    "# Kernel size = (3,3) ---> output size decreases from 28,28 to 26,26\n",
    "# Kernal size = (4,4) ---> output size decreases from 28,28 to 25,25\n",
    "# Pool_size = 2 --> output dimensions get halved\n",
    "# Pool_size = 3 --> output dimensions get divided by 3 and the floor integer value taken(if its not divisible by 3) --> same for other pool_sizes as well\n"
   ]
  },
  {
   "cell_type": "code",
   "execution_count": 7,
   "metadata": {},
   "outputs": [],
   "source": [
    "model.compile(loss=\"sparse_categorical_crossentropy\",optimizer=\"rmsprop\",metrics=\"accuracy\")"
   ]
  },
  {
   "cell_type": "code",
   "execution_count": 8,
   "metadata": {},
   "outputs": [
    {
     "name": "stdout",
     "output_type": "stream",
     "text": [
      "Epoch 1/5\n",
      "750/750 [==============================] - 10s 8ms/step - loss: 0.2412 - accuracy: 0.9250 - val_loss: 0.0833 - val_accuracy: 0.9764\n",
      "Epoch 2/5\n",
      "750/750 [==============================] - 6s 7ms/step - loss: 0.0670 - accuracy: 0.9792 - val_loss: 0.0525 - val_accuracy: 0.9852\n",
      "Epoch 3/5\n",
      "750/750 [==============================] - 5s 7ms/step - loss: 0.0460 - accuracy: 0.9857 - val_loss: 0.0496 - val_accuracy: 0.9843\n",
      "Epoch 4/5\n",
      "750/750 [==============================] - 5s 7ms/step - loss: 0.0350 - accuracy: 0.9890 - val_loss: 0.0457 - val_accuracy: 0.9871\n",
      "Epoch 5/5\n",
      "750/750 [==============================] - 5s 7ms/step - loss: 0.0272 - accuracy: 0.9913 - val_loss: 0.0471 - val_accuracy: 0.9861\n"
     ]
    },
    {
     "data": {
      "text/plain": [
       "<keras.callbacks.History at 0x1166c6b84f0>"
      ]
     },
     "execution_count": 8,
     "metadata": {},
     "output_type": "execute_result"
    }
   ],
   "source": [
    "model.fit(X_train,train_labels,validation_split=0.2,epochs=5,batch_size=64)"
   ]
  },
  {
   "cell_type": "code",
   "execution_count": 12,
   "metadata": {},
   "outputs": [],
   "source": [
    "# (convert the image from large to small size --> downsampling )\n",
    "# Max pooling used to retrieve the most important or maxed pixel value from parts of the image\n",
    "# Min pooling used to retrieve the least important or minimum pixel value from parts of the image(Not generally used)\n",
    "# Average pooling used to retrieve the average of the pixel value from parts of the image(Sometimes used)\n",
    "# Strides can also be used for downsampling, but not generally used in classification tasks\n",
    "# Flatten used to convert the 3D tensors to 1D tensors so that we can feed it to the dense NN layer"
   ]
  },
  {
   "cell_type": "code",
   "execution_count": null,
   "metadata": {},
   "outputs": [],
   "source": []
  }
 ],
 "metadata": {
  "kernelspec": {
   "display_name": "tensorflowgpu",
   "language": "python",
   "name": "python3"
  },
  "language_info": {
   "codemirror_mode": {
    "name": "ipython",
    "version": 3
   },
   "file_extension": ".py",
   "mimetype": "text/x-python",
   "name": "python",
   "nbconvert_exporter": "python",
   "pygments_lexer": "ipython3",
   "version": "3.10.13"
  }
 },
 "nbformat": 4,
 "nbformat_minor": 2
}
